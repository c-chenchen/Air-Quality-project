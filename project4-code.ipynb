{
 "cells": [
  {
   "cell_type": "markdown",
   "id": "ed4123d3",
   "metadata": {},
   "source": [
    "# Project 4 "
   ]
  },
  {
   "cell_type": "markdown",
   "id": "b27c5e16",
   "metadata": {},
   "source": [
    "# Urban Air Quality"
   ]
  },
  {
   "cell_type": "code",
   "execution_count": 1,
   "id": "beb7819b",
   "metadata": {},
   "outputs": [],
   "source": [
    "import numpy as np\n",
    "import matplotlib.pyplot as plt\n",
    "import pandas as pd"
   ]
  },
  {
   "cell_type": "markdown",
   "id": "5d8c4305",
   "metadata": {},
   "source": [
    "## Files"
   ]
  },
  {
   "cell_type": "code",
   "execution_count": 2,
   "id": "88838831",
   "metadata": {},
   "outputs": [],
   "source": [
    "# Marylebone Air Quality file\n",
    "file_name_1 = \"Marylebone_AirQualityDataHourly_2018-2021_clean.csv\"\n",
    "\n",
    "# Rochester Air Quality file\n",
    "file_name_2 = \"Rochester_AirQualityDataHourly_2018-2021_clean.csv\""
   ]
  },
  {
   "cell_type": "markdown",
   "id": "c2bdc29f",
   "metadata": {},
   "source": [
    "## Dataframe of Marylebone"
   ]
  },
  {
   "cell_type": "code",
   "execution_count": 3,
   "id": "b5661f45",
   "metadata": {},
   "outputs": [
    {
     "data": {
      "text/html": [
       "<div>\n",
       "<style scoped>\n",
       "    .dataframe tbody tr th:only-of-type {\n",
       "        vertical-align: middle;\n",
       "    }\n",
       "\n",
       "    .dataframe tbody tr th {\n",
       "        vertical-align: top;\n",
       "    }\n",
       "\n",
       "    .dataframe thead th {\n",
       "        text-align: right;\n",
       "    }\n",
       "</style>\n",
       "<table border=\"1\" class=\"dataframe\">\n",
       "  <thead>\n",
       "    <tr style=\"text-align: right;\">\n",
       "      <th></th>\n",
       "      <th>Hour of Day</th>\n",
       "      <th>Day of Week</th>\n",
       "      <th>PM10 particulate matter (Hourly measured)</th>\n",
       "      <th>Status PM10</th>\n",
       "      <th>PM2.5 particulate matter (Hourly measured)</th>\n",
       "      <th>Status PM2.5</th>\n",
       "      <th>Nitrogen dioxide</th>\n",
       "      <th>Status NO2</th>\n",
       "    </tr>\n",
       "    <tr>\n",
       "      <th>Date Time</th>\n",
       "      <th></th>\n",
       "      <th></th>\n",
       "      <th></th>\n",
       "      <th></th>\n",
       "      <th></th>\n",
       "      <th></th>\n",
       "      <th></th>\n",
       "      <th></th>\n",
       "    </tr>\n",
       "  </thead>\n",
       "  <tbody>\n",
       "    <tr>\n",
       "      <th>2018-01-01 00:00:00</th>\n",
       "      <td>0</td>\n",
       "      <td>6</td>\n",
       "      <td>NaN</td>\n",
       "      <td>N ugm-3 (TEOM FDMS)</td>\n",
       "      <td>NaN</td>\n",
       "      <td>V ugm-3 (TEOM FDMS)</td>\n",
       "      <td>NaN</td>\n",
       "      <td>V ugm-3</td>\n",
       "    </tr>\n",
       "    <tr>\n",
       "      <th>2018-01-01 01:00:00</th>\n",
       "      <td>1</td>\n",
       "      <td>0</td>\n",
       "      <td>24.6</td>\n",
       "      <td>V ugm-3 (TEOM FDMS)</td>\n",
       "      <td>12.7</td>\n",
       "      <td>V ugm-3 (TEOM FDMS)</td>\n",
       "      <td>79.05960</td>\n",
       "      <td>V ugm-3</td>\n",
       "    </tr>\n",
       "    <tr>\n",
       "      <th>2018-01-01 02:00:00</th>\n",
       "      <td>2</td>\n",
       "      <td>0</td>\n",
       "      <td>18.7</td>\n",
       "      <td>V ugm-3 (TEOM FDMS)</td>\n",
       "      <td>11.6</td>\n",
       "      <td>V ugm-3 (TEOM FDMS)</td>\n",
       "      <td>97.05587</td>\n",
       "      <td>V ugm-3</td>\n",
       "    </tr>\n",
       "    <tr>\n",
       "      <th>2018-01-01 03:00:00</th>\n",
       "      <td>3</td>\n",
       "      <td>0</td>\n",
       "      <td>17.2</td>\n",
       "      <td>V ugm-3 (TEOM FDMS)</td>\n",
       "      <td>7.6</td>\n",
       "      <td>V ugm-3 (TEOM FDMS)</td>\n",
       "      <td>101.07355</td>\n",
       "      <td>V ugm-3</td>\n",
       "    </tr>\n",
       "    <tr>\n",
       "      <th>2018-01-01 04:00:00</th>\n",
       "      <td>4</td>\n",
       "      <td>0</td>\n",
       "      <td>10.8</td>\n",
       "      <td>V ugm-3 (TEOM FDMS)</td>\n",
       "      <td>2.3</td>\n",
       "      <td>V ugm-3 (TEOM FDMS)</td>\n",
       "      <td>81.56557</td>\n",
       "      <td>V ugm-3</td>\n",
       "    </tr>\n",
       "  </tbody>\n",
       "</table>\n",
       "</div>"
      ],
      "text/plain": [
       "                     Hour of Day  Day of Week  \\\n",
       "Date Time                                       \n",
       "2018-01-01 00:00:00            0            6   \n",
       "2018-01-01 01:00:00            1            0   \n",
       "2018-01-01 02:00:00            2            0   \n",
       "2018-01-01 03:00:00            3            0   \n",
       "2018-01-01 04:00:00            4            0   \n",
       "\n",
       "                     PM10 particulate matter (Hourly measured)  \\\n",
       "Date Time                                                        \n",
       "2018-01-01 00:00:00                                        NaN   \n",
       "2018-01-01 01:00:00                                       24.6   \n",
       "2018-01-01 02:00:00                                       18.7   \n",
       "2018-01-01 03:00:00                                       17.2   \n",
       "2018-01-01 04:00:00                                       10.8   \n",
       "\n",
       "                             Status PM10  \\\n",
       "Date Time                                  \n",
       "2018-01-01 00:00:00  N ugm-3 (TEOM FDMS)   \n",
       "2018-01-01 01:00:00  V ugm-3 (TEOM FDMS)   \n",
       "2018-01-01 02:00:00  V ugm-3 (TEOM FDMS)   \n",
       "2018-01-01 03:00:00  V ugm-3 (TEOM FDMS)   \n",
       "2018-01-01 04:00:00  V ugm-3 (TEOM FDMS)   \n",
       "\n",
       "                     PM2.5 particulate matter (Hourly measured)  \\\n",
       "Date Time                                                         \n",
       "2018-01-01 00:00:00                                         NaN   \n",
       "2018-01-01 01:00:00                                        12.7   \n",
       "2018-01-01 02:00:00                                        11.6   \n",
       "2018-01-01 03:00:00                                         7.6   \n",
       "2018-01-01 04:00:00                                         2.3   \n",
       "\n",
       "                            Status PM2.5  Nitrogen dioxide Status NO2  \n",
       "Date Time                                                              \n",
       "2018-01-01 00:00:00  V ugm-3 (TEOM FDMS)               NaN    V ugm-3  \n",
       "2018-01-01 01:00:00  V ugm-3 (TEOM FDMS)          79.05960    V ugm-3  \n",
       "2018-01-01 02:00:00  V ugm-3 (TEOM FDMS)          97.05587    V ugm-3  \n",
       "2018-01-01 03:00:00  V ugm-3 (TEOM FDMS)         101.07355    V ugm-3  \n",
       "2018-01-01 04:00:00  V ugm-3 (TEOM FDMS)          81.56557    V ugm-3  "
      ]
     },
     "execution_count": 3,
     "metadata": {},
     "output_type": "execute_result"
    }
   ],
   "source": [
    "# Dataframe of Marylebone\n",
    "df_Marylebone = pd.read_csv(file_name_1,\n",
    "                           sep = \",\",\n",
    "                           skiprows = 4,\n",
    "                            index_col = 0,\n",
    "                            na_values = [\"No data\"]\n",
    "                            )\n",
    "# Show the Dataframe\n",
    "df_Marylebone.head()"
   ]
  },
  {
   "cell_type": "markdown",
   "id": "1740ba98",
   "metadata": {},
   "source": [
    "## Dataframe of Rochester"
   ]
  },
  {
   "cell_type": "code",
   "execution_count": 4,
   "id": "b6356d23",
   "metadata": {},
   "outputs": [
    {
     "data": {
      "text/html": [
       "<div>\n",
       "<style scoped>\n",
       "    .dataframe tbody tr th:only-of-type {\n",
       "        vertical-align: middle;\n",
       "    }\n",
       "\n",
       "    .dataframe tbody tr th {\n",
       "        vertical-align: top;\n",
       "    }\n",
       "\n",
       "    .dataframe thead th {\n",
       "        text-align: right;\n",
       "    }\n",
       "</style>\n",
       "<table border=\"1\" class=\"dataframe\">\n",
       "  <thead>\n",
       "    <tr style=\"text-align: right;\">\n",
       "      <th></th>\n",
       "      <th>Hour of Day</th>\n",
       "      <th>Day of Week</th>\n",
       "      <th>PM10 particulate matter (Hourly measured)</th>\n",
       "      <th>Status PM10</th>\n",
       "      <th>PM2.5 particulate matter (Hourly measured)</th>\n",
       "      <th>Status PM2.5</th>\n",
       "      <th>Nitrogen dioxide</th>\n",
       "      <th>Status NO2</th>\n",
       "    </tr>\n",
       "    <tr>\n",
       "      <th>Date Time</th>\n",
       "      <th></th>\n",
       "      <th></th>\n",
       "      <th></th>\n",
       "      <th></th>\n",
       "      <th></th>\n",
       "      <th></th>\n",
       "      <th></th>\n",
       "      <th></th>\n",
       "    </tr>\n",
       "  </thead>\n",
       "  <tbody>\n",
       "    <tr>\n",
       "      <th>2018-01-01 00:00:00</th>\n",
       "      <td>0</td>\n",
       "      <td>6</td>\n",
       "      <td>NaN</td>\n",
       "      <td>N ugm-3 (TEOM FDMS)</td>\n",
       "      <td>NaN</td>\n",
       "      <td>V ugm-3 (TEOM FDMS)</td>\n",
       "      <td>NaN</td>\n",
       "      <td>V ugm-3</td>\n",
       "    </tr>\n",
       "    <tr>\n",
       "      <th>2018-01-01 01:00:00</th>\n",
       "      <td>1</td>\n",
       "      <td>0</td>\n",
       "      <td>11.3</td>\n",
       "      <td>V ugm-3 (TEOM FDMS)</td>\n",
       "      <td>3.4</td>\n",
       "      <td>V ugm-3 (TEOM FDMS)</td>\n",
       "      <td>1.17542</td>\n",
       "      <td>V ugm-3</td>\n",
       "    </tr>\n",
       "    <tr>\n",
       "      <th>2018-01-01 02:00:00</th>\n",
       "      <td>2</td>\n",
       "      <td>0</td>\n",
       "      <td>8.7</td>\n",
       "      <td>V ugm-3 (TEOM FDMS)</td>\n",
       "      <td>3.4</td>\n",
       "      <td>V ugm-3 (TEOM FDMS)</td>\n",
       "      <td>1.17568</td>\n",
       "      <td>V ugm-3</td>\n",
       "    </tr>\n",
       "    <tr>\n",
       "      <th>2018-01-01 03:00:00</th>\n",
       "      <td>3</td>\n",
       "      <td>0</td>\n",
       "      <td>5.8</td>\n",
       "      <td>V ugm-3 (TEOM FDMS)</td>\n",
       "      <td>2.9</td>\n",
       "      <td>V ugm-3 (TEOM FDMS)</td>\n",
       "      <td>1.26732</td>\n",
       "      <td>V ugm-3</td>\n",
       "    </tr>\n",
       "    <tr>\n",
       "      <th>2018-01-01 04:00:00</th>\n",
       "      <td>4</td>\n",
       "      <td>0</td>\n",
       "      <td>8.3</td>\n",
       "      <td>V ugm-3 (TEOM FDMS)</td>\n",
       "      <td>-2.2</td>\n",
       "      <td>V ugm-3 (TEOM FDMS)</td>\n",
       "      <td>1.87301</td>\n",
       "      <td>V ugm-3</td>\n",
       "    </tr>\n",
       "  </tbody>\n",
       "</table>\n",
       "</div>"
      ],
      "text/plain": [
       "                     Hour of Day  Day of Week  \\\n",
       "Date Time                                       \n",
       "2018-01-01 00:00:00            0            6   \n",
       "2018-01-01 01:00:00            1            0   \n",
       "2018-01-01 02:00:00            2            0   \n",
       "2018-01-01 03:00:00            3            0   \n",
       "2018-01-01 04:00:00            4            0   \n",
       "\n",
       "                     PM10 particulate matter (Hourly measured)  \\\n",
       "Date Time                                                        \n",
       "2018-01-01 00:00:00                                        NaN   \n",
       "2018-01-01 01:00:00                                       11.3   \n",
       "2018-01-01 02:00:00                                        8.7   \n",
       "2018-01-01 03:00:00                                        5.8   \n",
       "2018-01-01 04:00:00                                        8.3   \n",
       "\n",
       "                             Status PM10  \\\n",
       "Date Time                                  \n",
       "2018-01-01 00:00:00  N ugm-3 (TEOM FDMS)   \n",
       "2018-01-01 01:00:00  V ugm-3 (TEOM FDMS)   \n",
       "2018-01-01 02:00:00  V ugm-3 (TEOM FDMS)   \n",
       "2018-01-01 03:00:00  V ugm-3 (TEOM FDMS)   \n",
       "2018-01-01 04:00:00  V ugm-3 (TEOM FDMS)   \n",
       "\n",
       "                     PM2.5 particulate matter (Hourly measured)  \\\n",
       "Date Time                                                         \n",
       "2018-01-01 00:00:00                                         NaN   \n",
       "2018-01-01 01:00:00                                         3.4   \n",
       "2018-01-01 02:00:00                                         3.4   \n",
       "2018-01-01 03:00:00                                         2.9   \n",
       "2018-01-01 04:00:00                                        -2.2   \n",
       "\n",
       "                            Status PM2.5  Nitrogen dioxide Status NO2  \n",
       "Date Time                                                              \n",
       "2018-01-01 00:00:00  V ugm-3 (TEOM FDMS)               NaN    V ugm-3  \n",
       "2018-01-01 01:00:00  V ugm-3 (TEOM FDMS)           1.17542    V ugm-3  \n",
       "2018-01-01 02:00:00  V ugm-3 (TEOM FDMS)           1.17568    V ugm-3  \n",
       "2018-01-01 03:00:00  V ugm-3 (TEOM FDMS)           1.26732    V ugm-3  \n",
       "2018-01-01 04:00:00  V ugm-3 (TEOM FDMS)           1.87301    V ugm-3  "
      ]
     },
     "execution_count": 4,
     "metadata": {},
     "output_type": "execute_result"
    }
   ],
   "source": [
    "# Dataframe of Rocheseter\n",
    "df_Rochester = pd.read_csv(file_name_2,\n",
    "                          sep = \",\",\n",
    "                          skiprows = 4,\n",
    "                           index_col = 0,\n",
    "                           na_values = [\"No data\"]\n",
    "                          )\n",
    "# Show the Dataframe\n",
    "df_Rochester.head()"
   ]
  },
  {
   "cell_type": "markdown",
   "id": "d5919c72",
   "metadata": {},
   "source": [
    "## Comparision of PM10 Concentrations: Marylebone vs Rochester "
   ]
  },
  {
   "cell_type": "code",
   "execution_count": 5,
   "id": "ab1cc438",
   "metadata": {},
   "outputs": [
    {
     "data": {
      "image/png": "[encoded data removed]",
      "text/plain": [
       "<Figure size 1200x600 with 1 Axes>"
      ]
     },
     "metadata": {},
     "output_type": "display_data"
    }
   ],
   "source": [
    "# Size of the plot\n",
    "fig, ax = plt.subplots(figsize = (12,6))\n",
    "\n",
    "\n",
    "# Plot of PM10 of Marylebone against Date Time in Red\n",
    "df_Marylebone.plot(y = \"PM10 particulate matter (Hourly measured)\",\n",
    "                           label = \"PM10 of Marylebone\",\n",
    "                           color = \"red\",\n",
    "                           alpha = 0.5,\n",
    "                           ax = ax\n",
    "                          )\n",
    "# Plot of PM10 of Rochester against Date TIme in Blue\n",
    "df_Rochester.plot(y = \"PM10 particulate matter (Hourly measured)\",\n",
    "                           label = \"PM10 of Rochester\",\n",
    "                           color = \"blue\",\n",
    "                           alpha = 0.5,\n",
    "                           ax = ax\n",
    "                 )\n",
    "\n",
    "# Name of y-axis\n",
    "ax.set_ylabel(\"PM10/ugm-3\")\n",
    "\n",
    "# Title of the plot\n",
    "ax.set_title(\"Marylebone PM10 vs Rochester PM10\")\n",
    "\n",
    "# Rotate x-axis labels for readability\n",
    "plt.xticks(rotation=45)\n",
    "\n",
    "# Show the plot\n",
    "plt.show()\n"
   ]
  },
  {
   "cell_type": "markdown",
   "id": "31992987",
   "metadata": {},
   "source": [
    "## Average PM10 of Marylebone"
   ]
  },
  {
   "cell_type": "code",
   "execution_count": 6,
   "id": "3e0cd523",
   "metadata": {},
   "outputs": [
    {
     "data": {
      "text/plain": [
       "20.93622107554624"
      ]
     },
     "execution_count": 6,
     "metadata": {},
     "output_type": "execute_result"
    }
   ],
   "source": [
    "# Mean value of PM10 in Marylebone across the entire time period\n",
    "Marylebone_pm10_avg = df_Marylebone[\"PM10 particulate matter (Hourly measured)\"].mean()\n",
    "\n",
    "Marylebone_pm10_avg"
   ]
  },
  {
   "cell_type": "markdown",
   "id": "d9e99626",
   "metadata": {},
   "source": [
    "## Standard deviation of PM10 in Marylebone"
   ]
  },
  {
   "cell_type": "code",
   "execution_count": 7,
   "id": "67ae99fb",
   "metadata": {},
   "outputs": [
    {
     "data": {
      "text/plain": [
       "11.817257861483357"
      ]
     },
     "execution_count": 7,
     "metadata": {},
     "output_type": "execute_result"
    }
   ],
   "source": [
    "# Standard deviation of PM10 in Marylebone\n",
    "Marylebone_pm10_std = df_Marylebone[\"PM10 particulate matter (Hourly measured)\"].std()\n",
    "\n",
    "Marylebone_pm10_std"
   ]
  },
  {
   "cell_type": "markdown",
   "id": "7ea642e0",
   "metadata": {},
   "source": [
    "## Average PM10 of Rochester"
   ]
  },
  {
   "cell_type": "code",
   "execution_count": 8,
   "id": "2203d89a",
   "metadata": {},
   "outputs": [
    {
     "data": {
      "text/plain": [
       "15.664442436607404"
      ]
     },
     "execution_count": 8,
     "metadata": {},
     "output_type": "execute_result"
    }
   ],
   "source": [
    "# Mean value of PM10 in Rochester across the entire time period\n",
    "Rochester_pm10_avg = df_Rochester[\"PM10 particulate matter (Hourly measured)\"].mean()\n",
    "\n",
    "Rochester_pm10_avg"
   ]
  },
  {
   "cell_type": "markdown",
   "id": "7b36628a",
   "metadata": {},
   "source": [
    "## Standard deviation of PM10 in Rochester"
   ]
  },
  {
   "cell_type": "code",
   "execution_count": 9,
   "id": "48052a41",
   "metadata": {},
   "outputs": [
    {
     "data": {
      "text/plain": [
       "13.403465320731005"
      ]
     },
     "execution_count": 9,
     "metadata": {},
     "output_type": "execute_result"
    }
   ],
   "source": [
    "# Standard deviation of PM10 in Rochester\n",
    "Rochester_pm10_std = df_Rochester[\"PM10 particulate matter (Hourly measured)\"].std()\n",
    "\n",
    "Rochester_pm10_std"
   ]
  },
  {
   "cell_type": "markdown",
   "id": "ef377418",
   "metadata": {},
   "source": [
    "## Average differences across the entire time period"
   ]
  },
  {
   "cell_type": "code",
   "execution_count": 10,
   "id": "f85fe296",
   "metadata": {},
   "outputs": [
    {
     "data": {
      "text/plain": [
       "5.2717786389388355"
      ]
     },
     "execution_count": 10,
     "metadata": {},
     "output_type": "execute_result"
    }
   ],
   "source": [
    "# Average of differences of Marylebone and Rochester across the entire time period\n",
    "diff = Marylebone_pm10_avg - Rochester_pm10_avg\n",
    "\n",
    "diff"
   ]
  },
  {
   "cell_type": "markdown",
   "id": "b5cab0ff",
   "metadata": {},
   "source": [
    "## Highest PM10 in Marylebone"
   ]
  },
  {
   "cell_type": "code",
   "execution_count": 11,
   "id": "90e59a03",
   "metadata": {},
   "outputs": [
    {
     "data": {
      "text/plain": [
       "187.9"
      ]
     },
     "execution_count": 11,
     "metadata": {},
     "output_type": "execute_result"
    }
   ],
   "source": [
    "# Highest value of PM10 in Marylebone\n",
    "df_Marylebone[\"PM10 particulate matter (Hourly measured)\"].max()"
   ]
  },
  {
   "cell_type": "markdown",
   "id": "f49338d1",
   "metadata": {},
   "source": [
    "## Highest PM10 in Rochester"
   ]
  },
  {
   "cell_type": "code",
   "execution_count": 12,
   "id": "7d6eb0b3",
   "metadata": {},
   "outputs": [
    {
     "data": {
      "text/plain": [
       "416.625"
      ]
     },
     "execution_count": 12,
     "metadata": {},
     "output_type": "execute_result"
    }
   ],
   "source": [
    "# Highest value of PM10 in Rochester\n",
    "df_Rochester[\"PM10 particulate matter (Hourly measured)\"].max()"
   ]
  },
  {
   "cell_type": "markdown",
   "id": "e69f2ea7",
   "metadata": {},
   "source": [
    "## Comparision of PM2.5 Concentrations: Marylebone vs Rochester"
   ]
  },
  {
   "cell_type": "code",
   "execution_count": 13,
   "id": "2c6c613b",
   "metadata": {},
   "outputs": [
    {
     "data": {
      "image/png": "[encoded data removed]",
      "text/plain": [
       "<Figure size 1200x600 with 1 Axes>"
      ]
     },
     "metadata": {},
     "output_type": "display_data"
    }
   ],
   "source": [
    "# Size of the plot\n",
    "fig, ax = plt.subplots(figsize = (12,6))\n",
    "\n",
    "# Plot of PM2.5 in Marylebone against Date Time in Red\n",
    "df_Marylebone.plot(y = \"PM2.5 particulate matter (Hourly measured)\",\n",
    "                           label = \"PM2.5 of Marylebone\",\n",
    "                           color = \"red\",\n",
    "                           alpha = 0.5,\n",
    "                           ax = ax\n",
    "                          )\n",
    "\n",
    "# PLot og PM2.5 in Rochester against Date Time in Blue\n",
    "df_Rochester.plot(y = \"PM2.5 particulate matter (Hourly measured)\",\n",
    "                           label = \"PM2.5 of Rochester\",\n",
    "                           color = \"blue\",\n",
    "                           alpha = 0.5,\n",
    "                           ax = ax\n",
    "                          )\n",
    "# Name of y-axis\n",
    "ax.set_ylabel(\"PM10/ugm-3\")\n",
    "\n",
    "# Title of the plot\n",
    "ax.set_title(\"Marylebone PM2.5 vs Rochester PM2.5\")\n",
    "\n",
    "\n",
    "# Rotate x-axis labels for readability\n",
    "plt.xticks(rotation=45)\n",
    "\n",
    "# Show the plot\n",
    "plt.show()"
   ]
  },
  {
   "cell_type": "markdown",
   "id": "eaa79d9d",
   "metadata": {},
   "source": [
    "## Dataframe of Marylebone at 6am"
   ]
  },
  {
   "cell_type": "code",
   "execution_count": 14,
   "id": "75d5ad38",
   "metadata": {
    "scrolled": true
   },
   "outputs": [
    {
     "data": {
      "text/html": [
       "<div>\n",
       "<style scoped>\n",
       "    .dataframe tbody tr th:only-of-type {\n",
       "        vertical-align: middle;\n",
       "    }\n",
       "\n",
       "    .dataframe tbody tr th {\n",
       "        vertical-align: top;\n",
       "    }\n",
       "\n",
       "    .dataframe thead th {\n",
       "        text-align: right;\n",
       "    }\n",
       "</style>\n",
       "<table border=\"1\" class=\"dataframe\">\n",
       "  <thead>\n",
       "    <tr style=\"text-align: right;\">\n",
       "      <th></th>\n",
       "      <th>Hour of Day</th>\n",
       "      <th>Day of Week</th>\n",
       "      <th>PM10 particulate matter (Hourly measured)</th>\n",
       "      <th>Status PM10</th>\n",
       "      <th>PM2.5 particulate matter (Hourly measured)</th>\n",
       "      <th>Status PM2.5</th>\n",
       "      <th>Nitrogen dioxide</th>\n",
       "      <th>Status NO2</th>\n",
       "    </tr>\n",
       "    <tr>\n",
       "      <th>Date Time</th>\n",
       "      <th></th>\n",
       "      <th></th>\n",
       "      <th></th>\n",
       "      <th></th>\n",
       "      <th></th>\n",
       "      <th></th>\n",
       "      <th></th>\n",
       "      <th></th>\n",
       "    </tr>\n",
       "  </thead>\n",
       "  <tbody>\n",
       "    <tr>\n",
       "      <th>2018-01-01 06:00:00</th>\n",
       "      <td>6</td>\n",
       "      <td>0</td>\n",
       "      <td>12.6</td>\n",
       "      <td>V ugm-3 (TEOM FDMS)</td>\n",
       "      <td>2.7</td>\n",
       "      <td>V ugm-3 (TEOM FDMS)</td>\n",
       "      <td>51.55781</td>\n",
       "      <td>V ugm-3</td>\n",
       "    </tr>\n",
       "    <tr>\n",
       "      <th>2018-01-02 06:00:00</th>\n",
       "      <td>6</td>\n",
       "      <td>1</td>\n",
       "      <td>17.9</td>\n",
       "      <td>V ugm-3 (TEOM FDMS)</td>\n",
       "      <td>6.9</td>\n",
       "      <td>V ugm-3 (TEOM FDMS)</td>\n",
       "      <td>71.20543</td>\n",
       "      <td>V ugm-3</td>\n",
       "    </tr>\n",
       "    <tr>\n",
       "      <th>2018-01-03 06:00:00</th>\n",
       "      <td>6</td>\n",
       "      <td>2</td>\n",
       "      <td>13.9</td>\n",
       "      <td>V ugm-3 (TEOM FDMS)</td>\n",
       "      <td>5.9</td>\n",
       "      <td>V ugm-3 (TEOM FDMS)</td>\n",
       "      <td>37.23673</td>\n",
       "      <td>V ugm-3</td>\n",
       "    </tr>\n",
       "    <tr>\n",
       "      <th>2018-01-04 06:00:00</th>\n",
       "      <td>6</td>\n",
       "      <td>3</td>\n",
       "      <td>15.9</td>\n",
       "      <td>V ugm-3 (TEOM FDMS)</td>\n",
       "      <td>4.4</td>\n",
       "      <td>V ugm-3 (TEOM FDMS)</td>\n",
       "      <td>77.03227</td>\n",
       "      <td>V ugm-3</td>\n",
       "    </tr>\n",
       "    <tr>\n",
       "      <th>2018-01-05 06:00:00</th>\n",
       "      <td>6</td>\n",
       "      <td>4</td>\n",
       "      <td>13.3</td>\n",
       "      <td>V ugm-3 (TEOM FDMS)</td>\n",
       "      <td>7.9</td>\n",
       "      <td>V ugm-3 (TEOM FDMS)</td>\n",
       "      <td>70.51972</td>\n",
       "      <td>V ugm-3</td>\n",
       "    </tr>\n",
       "  </tbody>\n",
       "</table>\n",
       "</div>"
      ],
      "text/plain": [
       "                     Hour of Day  Day of Week  \\\n",
       "Date Time                                       \n",
       "2018-01-01 06:00:00            6            0   \n",
       "2018-01-02 06:00:00            6            1   \n",
       "2018-01-03 06:00:00            6            2   \n",
       "2018-01-04 06:00:00            6            3   \n",
       "2018-01-05 06:00:00            6            4   \n",
       "\n",
       "                     PM10 particulate matter (Hourly measured)  \\\n",
       "Date Time                                                        \n",
       "2018-01-01 06:00:00                                       12.6   \n",
       "2018-01-02 06:00:00                                       17.9   \n",
       "2018-01-03 06:00:00                                       13.9   \n",
       "2018-01-04 06:00:00                                       15.9   \n",
       "2018-01-05 06:00:00                                       13.3   \n",
       "\n",
       "                             Status PM10  \\\n",
       "Date Time                                  \n",
       "2018-01-01 06:00:00  V ugm-3 (TEOM FDMS)   \n",
       "2018-01-02 06:00:00  V ugm-3 (TEOM FDMS)   \n",
       "2018-01-03 06:00:00  V ugm-3 (TEOM FDMS)   \n",
       "2018-01-04 06:00:00  V ugm-3 (TEOM FDMS)   \n",
       "2018-01-05 06:00:00  V ugm-3 (TEOM FDMS)   \n",
       "\n",
       "                     PM2.5 particulate matter (Hourly measured)  \\\n",
       "Date Time                                                         \n",
       "2018-01-01 06:00:00                                         2.7   \n",
       "2018-01-02 06:00:00                                         6.9   \n",
       "2018-01-03 06:00:00                                         5.9   \n",
       "2018-01-04 06:00:00                                         4.4   \n",
       "2018-01-05 06:00:00                                         7.9   \n",
       "\n",
       "                            Status PM2.5  Nitrogen dioxide Status NO2  \n",
       "Date Time                                                              \n",
       "2018-01-01 06:00:00  V ugm-3 (TEOM FDMS)          51.55781    V ugm-3  \n",
       "2018-01-02 06:00:00  V ugm-3 (TEOM FDMS)          71.20543    V ugm-3  \n",
       "2018-01-03 06:00:00  V ugm-3 (TEOM FDMS)          37.23673    V ugm-3  \n",
       "2018-01-04 06:00:00  V ugm-3 (TEOM FDMS)          77.03227    V ugm-3  \n",
       "2018-01-05 06:00:00  V ugm-3 (TEOM FDMS)          70.51972    V ugm-3  "
      ]
     },
     "execution_count": 14,
     "metadata": {},
     "output_type": "execute_result"
    }
   ],
   "source": [
    "# Dataframe of Marylebone at 6am\n",
    "df_Marylebone_6am = df_Marylebone[df_Marylebone[\"Hour of Day\"] == 6]\n",
    "\n",
    "# Show the Dataframe\n",
    "df_Marylebone_6am.head()"
   ]
  },
  {
   "cell_type": "markdown",
   "id": "d6931daa",
   "metadata": {},
   "source": [
    "## Dataframe of Marylebone at 6pm"
   ]
  },
  {
   "cell_type": "code",
   "execution_count": 15,
   "id": "89f5f28b",
   "metadata": {},
   "outputs": [
    {
     "data": {
      "text/html": [
       "<div>\n",
       "<style scoped>\n",
       "    .dataframe tbody tr th:only-of-type {\n",
       "        vertical-align: middle;\n",
       "    }\n",
       "\n",
       "    .dataframe tbody tr th {\n",
       "        vertical-align: top;\n",
       "    }\n",
       "\n",
       "    .dataframe thead th {\n",
       "        text-align: right;\n",
       "    }\n",
       "</style>\n",
       "<table border=\"1\" class=\"dataframe\">\n",
       "  <thead>\n",
       "    <tr style=\"text-align: right;\">\n",
       "      <th></th>\n",
       "      <th>Hour of Day</th>\n",
       "      <th>Day of Week</th>\n",
       "      <th>PM10 particulate matter (Hourly measured)</th>\n",
       "      <th>Status PM10</th>\n",
       "      <th>PM2.5 particulate matter (Hourly measured)</th>\n",
       "      <th>Status PM2.5</th>\n",
       "      <th>Nitrogen dioxide</th>\n",
       "      <th>Status NO2</th>\n",
       "    </tr>\n",
       "    <tr>\n",
       "      <th>Date Time</th>\n",
       "      <th></th>\n",
       "      <th></th>\n",
       "      <th></th>\n",
       "      <th></th>\n",
       "      <th></th>\n",
       "      <th></th>\n",
       "      <th></th>\n",
       "      <th></th>\n",
       "    </tr>\n",
       "  </thead>\n",
       "  <tbody>\n",
       "    <tr>\n",
       "      <th>2018-01-01 18:00:00</th>\n",
       "      <td>18</td>\n",
       "      <td>0</td>\n",
       "      <td>22.3</td>\n",
       "      <td>V ugm-3 (TEOM FDMS)</td>\n",
       "      <td>9.5</td>\n",
       "      <td>V ugm-3 (TEOM FDMS)</td>\n",
       "      <td>111.78907</td>\n",
       "      <td>V ugm-3</td>\n",
       "    </tr>\n",
       "    <tr>\n",
       "      <th>2018-01-02 18:00:00</th>\n",
       "      <td>18</td>\n",
       "      <td>1</td>\n",
       "      <td>43.3</td>\n",
       "      <td>V ugm-3 (TEOM FDMS)</td>\n",
       "      <td>22.1</td>\n",
       "      <td>V ugm-3 (TEOM FDMS)</td>\n",
       "      <td>114.14649</td>\n",
       "      <td>V ugm-3</td>\n",
       "    </tr>\n",
       "    <tr>\n",
       "      <th>2018-01-03 18:00:00</th>\n",
       "      <td>18</td>\n",
       "      <td>2</td>\n",
       "      <td>45.2</td>\n",
       "      <td>V ugm-3 (TEOM FDMS)</td>\n",
       "      <td>20.8</td>\n",
       "      <td>V ugm-3 (TEOM FDMS)</td>\n",
       "      <td>111.59241</td>\n",
       "      <td>V ugm-3</td>\n",
       "    </tr>\n",
       "    <tr>\n",
       "      <th>2018-01-04 18:00:00</th>\n",
       "      <td>18</td>\n",
       "      <td>3</td>\n",
       "      <td>12.6</td>\n",
       "      <td>V ugm-3 (TEOM FDMS)</td>\n",
       "      <td>8.7</td>\n",
       "      <td>V ugm-3 (TEOM FDMS)</td>\n",
       "      <td>102.70565</td>\n",
       "      <td>V ugm-3</td>\n",
       "    </tr>\n",
       "    <tr>\n",
       "      <th>2018-01-05 18:00:00</th>\n",
       "      <td>18</td>\n",
       "      <td>4</td>\n",
       "      <td>30.1</td>\n",
       "      <td>V ugm-3 (TEOM FDMS)</td>\n",
       "      <td>13.5</td>\n",
       "      <td>V ugm-3 (TEOM FDMS)</td>\n",
       "      <td>141.31741</td>\n",
       "      <td>V ugm-3</td>\n",
       "    </tr>\n",
       "  </tbody>\n",
       "</table>\n",
       "</div>"
      ],
      "text/plain": [
       "                     Hour of Day  Day of Week  \\\n",
       "Date Time                                       \n",
       "2018-01-01 18:00:00           18            0   \n",
       "2018-01-02 18:00:00           18            1   \n",
       "2018-01-03 18:00:00           18            2   \n",
       "2018-01-04 18:00:00           18            3   \n",
       "2018-01-05 18:00:00           18            4   \n",
       "\n",
       "                     PM10 particulate matter (Hourly measured)  \\\n",
       "Date Time                                                        \n",
       "2018-01-01 18:00:00                                       22.3   \n",
       "2018-01-02 18:00:00                                       43.3   \n",
       "2018-01-03 18:00:00                                       45.2   \n",
       "2018-01-04 18:00:00                                       12.6   \n",
       "2018-01-05 18:00:00                                       30.1   \n",
       "\n",
       "                             Status PM10  \\\n",
       "Date Time                                  \n",
       "2018-01-01 18:00:00  V ugm-3 (TEOM FDMS)   \n",
       "2018-01-02 18:00:00  V ugm-3 (TEOM FDMS)   \n",
       "2018-01-03 18:00:00  V ugm-3 (TEOM FDMS)   \n",
       "2018-01-04 18:00:00  V ugm-3 (TEOM FDMS)   \n",
       "2018-01-05 18:00:00  V ugm-3 (TEOM FDMS)   \n",
       "\n",
       "                     PM2.5 particulate matter (Hourly measured)  \\\n",
       "Date Time                                                         \n",
       "2018-01-01 18:00:00                                         9.5   \n",
       "2018-01-02 18:00:00                                        22.1   \n",
       "2018-01-03 18:00:00                                        20.8   \n",
       "2018-01-04 18:00:00                                         8.7   \n",
       "2018-01-05 18:00:00                                        13.5   \n",
       "\n",
       "                            Status PM2.5  Nitrogen dioxide Status NO2  \n",
       "Date Time                                                              \n",
       "2018-01-01 18:00:00  V ugm-3 (TEOM FDMS)         111.78907    V ugm-3  \n",
       "2018-01-02 18:00:00  V ugm-3 (TEOM FDMS)         114.14649    V ugm-3  \n",
       "2018-01-03 18:00:00  V ugm-3 (TEOM FDMS)         111.59241    V ugm-3  \n",
       "2018-01-04 18:00:00  V ugm-3 (TEOM FDMS)         102.70565    V ugm-3  \n",
       "2018-01-05 18:00:00  V ugm-3 (TEOM FDMS)         141.31741    V ugm-3  "
      ]
     },
     "execution_count": 15,
     "metadata": {},
     "output_type": "execute_result"
    }
   ],
   "source": [
    "# Dataframe of Marylebone at 6pm\n",
    "df_Marylebone_6pm = df_Marylebone[df_Marylebone[\"Hour of Day\"] == 18]\n",
    "\n",
    "# Show the Dataframe\n",
    "df_Marylebone_6pm.head()"
   ]
  },
  {
   "cell_type": "markdown",
   "id": "0e479803",
   "metadata": {},
   "source": [
    "## Average PM10 of Marylebone at 6am"
   ]
  },
  {
   "cell_type": "code",
   "execution_count": 16,
   "id": "ee77a7c9",
   "metadata": {},
   "outputs": [
    {
     "data": {
      "text/plain": [
       "18.65529865125241"
      ]
     },
     "execution_count": 16,
     "metadata": {},
     "output_type": "execute_result"
    }
   ],
   "source": [
    "# Mean value of PM10 in Marylebone at 6am\n",
    "Marylebone6am_pm10_avg = df_Marylebone_6am[\"PM10 particulate matter (Hourly measured)\"].mean()\n",
    "\n",
    "Marylebone6am_pm10_avg"
   ]
  },
  {
   "cell_type": "markdown",
   "id": "fe487cca",
   "metadata": {},
   "source": [
    "## Average PM10 of Marylebone at 6pm"
   ]
  },
  {
   "cell_type": "code",
   "execution_count": 17,
   "id": "343bcb26",
   "metadata": {},
   "outputs": [
    {
     "data": {
      "text/plain": [
       "21.38861003861004"
      ]
     },
     "execution_count": 17,
     "metadata": {},
     "output_type": "execute_result"
    }
   ],
   "source": [
    "# Mean value of PM10 in Marylebone at 6pm\n",
    "Marylebone6pm_pm10_avg = df_Marylebone_6pm[\"PM10 particulate matter (Hourly measured)\"].mean()\n",
    "\n",
    "Marylebone6pm_pm10_avg"
   ]
  },
  {
   "cell_type": "markdown",
   "id": "b0496ec8",
   "metadata": {},
   "source": [
    "## Dataframe of Rochester at 6am"
   ]
  },
  {
   "cell_type": "code",
   "execution_count": 18,
   "id": "d780b265",
   "metadata": {},
   "outputs": [
    {
     "data": {
      "text/html": [
       "<div>\n",
       "<style scoped>\n",
       "    .dataframe tbody tr th:only-of-type {\n",
       "        vertical-align: middle;\n",
       "    }\n",
       "\n",
       "    .dataframe tbody tr th {\n",
       "        vertical-align: top;\n",
       "    }\n",
       "\n",
       "    .dataframe thead th {\n",
       "        text-align: right;\n",
       "    }\n",
       "</style>\n",
       "<table border=\"1\" class=\"dataframe\">\n",
       "  <thead>\n",
       "    <tr style=\"text-align: right;\">\n",
       "      <th></th>\n",
       "      <th>Hour of Day</th>\n",
       "      <th>Day of Week</th>\n",
       "      <th>PM10 particulate matter (Hourly measured)</th>\n",
       "      <th>Status PM10</th>\n",
       "      <th>PM2.5 particulate matter (Hourly measured)</th>\n",
       "      <th>Status PM2.5</th>\n",
       "      <th>Nitrogen dioxide</th>\n",
       "      <th>Status NO2</th>\n",
       "    </tr>\n",
       "    <tr>\n",
       "      <th>Date Time</th>\n",
       "      <th></th>\n",
       "      <th></th>\n",
       "      <th></th>\n",
       "      <th></th>\n",
       "      <th></th>\n",
       "      <th></th>\n",
       "      <th></th>\n",
       "      <th></th>\n",
       "    </tr>\n",
       "  </thead>\n",
       "  <tbody>\n",
       "    <tr>\n",
       "      <th>2018-01-01 06:00:00</th>\n",
       "      <td>6</td>\n",
       "      <td>0</td>\n",
       "      <td>8.3</td>\n",
       "      <td>V ugm-3 (TEOM FDMS)</td>\n",
       "      <td>3.2</td>\n",
       "      <td>V ugm-3 (TEOM FDMS)</td>\n",
       "      <td>1.65297</td>\n",
       "      <td>V ugm-3</td>\n",
       "    </tr>\n",
       "    <tr>\n",
       "      <th>2018-01-02 06:00:00</th>\n",
       "      <td>6</td>\n",
       "      <td>1</td>\n",
       "      <td>11.9</td>\n",
       "      <td>V ugm-3 (TEOM FDMS)</td>\n",
       "      <td>-0.7</td>\n",
       "      <td>V ugm-3 (TEOM FDMS)</td>\n",
       "      <td>3.96758</td>\n",
       "      <td>V ugm-3</td>\n",
       "    </tr>\n",
       "    <tr>\n",
       "      <th>2018-01-03 06:00:00</th>\n",
       "      <td>6</td>\n",
       "      <td>2</td>\n",
       "      <td>15.0</td>\n",
       "      <td>V ugm-3 (TEOM FDMS)</td>\n",
       "      <td>5.2</td>\n",
       "      <td>V ugm-3 (TEOM FDMS)</td>\n",
       "      <td>2.03988</td>\n",
       "      <td>V ugm-3</td>\n",
       "    </tr>\n",
       "    <tr>\n",
       "      <th>2018-01-04 06:00:00</th>\n",
       "      <td>6</td>\n",
       "      <td>3</td>\n",
       "      <td>13.6</td>\n",
       "      <td>V ugm-3 (TEOM FDMS)</td>\n",
       "      <td>-0.8</td>\n",
       "      <td>V ugm-3 (TEOM FDMS)</td>\n",
       "      <td>9.26502</td>\n",
       "      <td>V ugm-3</td>\n",
       "    </tr>\n",
       "    <tr>\n",
       "      <th>2018-01-05 06:00:00</th>\n",
       "      <td>6</td>\n",
       "      <td>4</td>\n",
       "      <td>9.8</td>\n",
       "      <td>V ugm-3 (TEOM FDMS)</td>\n",
       "      <td>-2.8</td>\n",
       "      <td>V ugm-3 (TEOM FDMS)</td>\n",
       "      <td>5.18593</td>\n",
       "      <td>V ugm-3</td>\n",
       "    </tr>\n",
       "  </tbody>\n",
       "</table>\n",
       "</div>"
      ],
      "text/plain": [
       "                     Hour of Day  Day of Week  \\\n",
       "Date Time                                       \n",
       "2018-01-01 06:00:00            6            0   \n",
       "2018-01-02 06:00:00            6            1   \n",
       "2018-01-03 06:00:00            6            2   \n",
       "2018-01-04 06:00:00            6            3   \n",
       "2018-01-05 06:00:00            6            4   \n",
       "\n",
       "                     PM10 particulate matter (Hourly measured)  \\\n",
       "Date Time                                                        \n",
       "2018-01-01 06:00:00                                        8.3   \n",
       "2018-01-02 06:00:00                                       11.9   \n",
       "2018-01-03 06:00:00                                       15.0   \n",
       "2018-01-04 06:00:00                                       13.6   \n",
       "2018-01-05 06:00:00                                        9.8   \n",
       "\n",
       "                             Status PM10  \\\n",
       "Date Time                                  \n",
       "2018-01-01 06:00:00  V ugm-3 (TEOM FDMS)   \n",
       "2018-01-02 06:00:00  V ugm-3 (TEOM FDMS)   \n",
       "2018-01-03 06:00:00  V ugm-3 (TEOM FDMS)   \n",
       "2018-01-04 06:00:00  V ugm-3 (TEOM FDMS)   \n",
       "2018-01-05 06:00:00  V ugm-3 (TEOM FDMS)   \n",
       "\n",
       "                     PM2.5 particulate matter (Hourly measured)  \\\n",
       "Date Time                                                         \n",
       "2018-01-01 06:00:00                                         3.2   \n",
       "2018-01-02 06:00:00                                        -0.7   \n",
       "2018-01-03 06:00:00                                         5.2   \n",
       "2018-01-04 06:00:00                                        -0.8   \n",
       "2018-01-05 06:00:00                                        -2.8   \n",
       "\n",
       "                            Status PM2.5  Nitrogen dioxide Status NO2  \n",
       "Date Time                                                              \n",
       "2018-01-01 06:00:00  V ugm-3 (TEOM FDMS)           1.65297    V ugm-3  \n",
       "2018-01-02 06:00:00  V ugm-3 (TEOM FDMS)           3.96758    V ugm-3  \n",
       "2018-01-03 06:00:00  V ugm-3 (TEOM FDMS)           2.03988    V ugm-3  \n",
       "2018-01-04 06:00:00  V ugm-3 (TEOM FDMS)           9.26502    V ugm-3  \n",
       "2018-01-05 06:00:00  V ugm-3 (TEOM FDMS)           5.18593    V ugm-3  "
      ]
     },
     "execution_count": 18,
     "metadata": {},
     "output_type": "execute_result"
    }
   ],
   "source": [
    "# Dataframe of Rochester at 6am\n",
    "df_Rochester_6am = df_Rochester[df_Rochester[\"Hour of Day\"] == 6]\n",
    "\n",
    "# Show the Dataframe\n",
    "df_Rochester_6am.head()"
   ]
  },
  {
   "cell_type": "markdown",
   "id": "8fec3793",
   "metadata": {},
   "source": [
    "## Dataframe of Rochester at 6pm"
   ]
  },
  {
   "cell_type": "code",
   "execution_count": 19,
   "id": "ec31854b",
   "metadata": {},
   "outputs": [
    {
     "data": {
      "text/html": [
       "<div>\n",
       "<style scoped>\n",
       "    .dataframe tbody tr th:only-of-type {\n",
       "        vertical-align: middle;\n",
       "    }\n",
       "\n",
       "    .dataframe tbody tr th {\n",
       "        vertical-align: top;\n",
       "    }\n",
       "\n",
       "    .dataframe thead th {\n",
       "        text-align: right;\n",
       "    }\n",
       "</style>\n",
       "<table border=\"1\" class=\"dataframe\">\n",
       "  <thead>\n",
       "    <tr style=\"text-align: right;\">\n",
       "      <th></th>\n",
       "      <th>Hour of Day</th>\n",
       "      <th>Day of Week</th>\n",
       "      <th>PM10 particulate matter (Hourly measured)</th>\n",
       "      <th>Status PM10</th>\n",
       "      <th>PM2.5 particulate matter (Hourly measured)</th>\n",
       "      <th>Status PM2.5</th>\n",
       "      <th>Nitrogen dioxide</th>\n",
       "      <th>Status NO2</th>\n",
       "    </tr>\n",
       "    <tr>\n",
       "      <th>Date Time</th>\n",
       "      <th></th>\n",
       "      <th></th>\n",
       "      <th></th>\n",
       "      <th></th>\n",
       "      <th></th>\n",
       "      <th></th>\n",
       "      <th></th>\n",
       "      <th></th>\n",
       "    </tr>\n",
       "  </thead>\n",
       "  <tbody>\n",
       "    <tr>\n",
       "      <th>2018-01-01 18:00:00</th>\n",
       "      <td>18</td>\n",
       "      <td>0</td>\n",
       "      <td>9.2</td>\n",
       "      <td>V ugm-3 (TEOM FDMS)</td>\n",
       "      <td>1.8</td>\n",
       "      <td>V ugm-3 (TEOM FDMS)</td>\n",
       "      <td>15.25821</td>\n",
       "      <td>V ugm-3</td>\n",
       "    </tr>\n",
       "    <tr>\n",
       "      <th>2018-01-02 18:00:00</th>\n",
       "      <td>18</td>\n",
       "      <td>1</td>\n",
       "      <td>14.8</td>\n",
       "      <td>V ugm-3 (TEOM FDMS)</td>\n",
       "      <td>6.4</td>\n",
       "      <td>V ugm-3 (TEOM FDMS)</td>\n",
       "      <td>16.20123</td>\n",
       "      <td>V ugm-3</td>\n",
       "    </tr>\n",
       "    <tr>\n",
       "      <th>2018-01-03 18:00:00</th>\n",
       "      <td>18</td>\n",
       "      <td>2</td>\n",
       "      <td>29.1</td>\n",
       "      <td>V ugm-3 (TEOM FDMS)</td>\n",
       "      <td>6.9</td>\n",
       "      <td>V ugm-3 (TEOM FDMS)</td>\n",
       "      <td>7.49723</td>\n",
       "      <td>V ugm-3</td>\n",
       "    </tr>\n",
       "    <tr>\n",
       "      <th>2018-01-04 18:00:00</th>\n",
       "      <td>18</td>\n",
       "      <td>3</td>\n",
       "      <td>7.8</td>\n",
       "      <td>V ugm-3 (TEOM FDMS)</td>\n",
       "      <td>-1.8</td>\n",
       "      <td>V ugm-3 (TEOM FDMS)</td>\n",
       "      <td>13.07015</td>\n",
       "      <td>V ugm-3</td>\n",
       "    </tr>\n",
       "    <tr>\n",
       "      <th>2018-01-05 18:00:00</th>\n",
       "      <td>18</td>\n",
       "      <td>4</td>\n",
       "      <td>6.0</td>\n",
       "      <td>V ugm-3 (TEOM FDMS)</td>\n",
       "      <td>0.9</td>\n",
       "      <td>V ugm-3 (TEOM FDMS)</td>\n",
       "      <td>15.33697</td>\n",
       "      <td>V ugm-3</td>\n",
       "    </tr>\n",
       "  </tbody>\n",
       "</table>\n",
       "</div>"
      ],
      "text/plain": [
       "                     Hour of Day  Day of Week  \\\n",
       "Date Time                                       \n",
       "2018-01-01 18:00:00           18            0   \n",
       "2018-01-02 18:00:00           18            1   \n",
       "2018-01-03 18:00:00           18            2   \n",
       "2018-01-04 18:00:00           18            3   \n",
       "2018-01-05 18:00:00           18            4   \n",
       "\n",
       "                     PM10 particulate matter (Hourly measured)  \\\n",
       "Date Time                                                        \n",
       "2018-01-01 18:00:00                                        9.2   \n",
       "2018-01-02 18:00:00                                       14.8   \n",
       "2018-01-03 18:00:00                                       29.1   \n",
       "2018-01-04 18:00:00                                        7.8   \n",
       "2018-01-05 18:00:00                                        6.0   \n",
       "\n",
       "                             Status PM10  \\\n",
       "Date Time                                  \n",
       "2018-01-01 18:00:00  V ugm-3 (TEOM FDMS)   \n",
       "2018-01-02 18:00:00  V ugm-3 (TEOM FDMS)   \n",
       "2018-01-03 18:00:00  V ugm-3 (TEOM FDMS)   \n",
       "2018-01-04 18:00:00  V ugm-3 (TEOM FDMS)   \n",
       "2018-01-05 18:00:00  V ugm-3 (TEOM FDMS)   \n",
       "\n",
       "                     PM2.5 particulate matter (Hourly measured)  \\\n",
       "Date Time                                                         \n",
       "2018-01-01 18:00:00                                         1.8   \n",
       "2018-01-02 18:00:00                                         6.4   \n",
       "2018-01-03 18:00:00                                         6.9   \n",
       "2018-01-04 18:00:00                                        -1.8   \n",
       "2018-01-05 18:00:00                                         0.9   \n",
       "\n",
       "                            Status PM2.5  Nitrogen dioxide Status NO2  \n",
       "Date Time                                                              \n",
       "2018-01-01 18:00:00  V ugm-3 (TEOM FDMS)          15.25821    V ugm-3  \n",
       "2018-01-02 18:00:00  V ugm-3 (TEOM FDMS)          16.20123    V ugm-3  \n",
       "2018-01-03 18:00:00  V ugm-3 (TEOM FDMS)           7.49723    V ugm-3  \n",
       "2018-01-04 18:00:00  V ugm-3 (TEOM FDMS)          13.07015    V ugm-3  \n",
       "2018-01-05 18:00:00  V ugm-3 (TEOM FDMS)          15.33697    V ugm-3  "
      ]
     },
     "execution_count": 19,
     "metadata": {},
     "output_type": "execute_result"
    }
   ],
   "source": [
    "# Dataframe of Rochester at 6pm\n",
    "df_Rochester_6pm = df_Rochester[df_Rochester[\"Hour of Day\"] == 18]\n",
    "\n",
    "# Show the Dataframe\n",
    "df_Rochester_6pm.head()"
   ]
  },
  {
   "cell_type": "markdown",
   "id": "76f66c3c",
   "metadata": {},
   "source": [
    "## Average PM10 of Rochester at 6am"
   ]
  },
  {
   "cell_type": "code",
   "execution_count": 20,
   "id": "f918cc6c",
   "metadata": {},
   "outputs": [
    {
     "data": {
      "text/plain": [
       "15.318330427201396"
      ]
     },
     "execution_count": 20,
     "metadata": {},
     "output_type": "execute_result"
    }
   ],
   "source": [
    "# Mean value of PM10 in Rochester at 6am\n",
    "Rochester6am_pm10_avg = df_Rochester_6am[\"PM10 particulate matter (Hourly measured)\"].mean()\n",
    "\n",
    "Rochester6am_pm10_avg"
   ]
  },
  {
   "cell_type": "markdown",
   "id": "e1009ff6",
   "metadata": {},
   "source": [
    "## Average PM10 of Rochester at 6pm"
   ]
  },
  {
   "cell_type": "code",
   "execution_count": 21,
   "id": "c2dddd3a",
   "metadata": {},
   "outputs": [
    {
     "data": {
      "text/plain": [
       "15.221291448516578"
      ]
     },
     "execution_count": 21,
     "metadata": {},
     "output_type": "execute_result"
    }
   ],
   "source": [
    "# Mean value of PM10 in Rochester at 6pm\n",
    "Rochester6pm_pm10_avg = df_Rochester_6pm[\"PM10 particulate matter (Hourly measured)\"].mean()\n",
    "\n",
    "Rochester6pm_pm10_avg"
   ]
  },
  {
   "cell_type": "markdown",
   "id": "93382705",
   "metadata": {},
   "source": [
    "## Weather Dataframe (2018-01-01 to 2021-02-28)"
   ]
  },
  {
   "cell_type": "code",
   "execution_count": 22,
   "id": "bb289d06",
   "metadata": {},
   "outputs": [],
   "source": [
    "# File of Weather Data\n",
    "file_name_3 = \"Weather_data_hourly_Heathrow-Airport.csv\""
   ]
  },
  {
   "cell_type": "code",
   "execution_count": 23,
   "id": "fd486856",
   "metadata": {},
   "outputs": [
    {
     "data": {
      "text/html": [
       "<div>\n",
       "<style scoped>\n",
       "    .dataframe tbody tr th:only-of-type {\n",
       "        vertical-align: middle;\n",
       "    }\n",
       "\n",
       "    .dataframe tbody tr th {\n",
       "        vertical-align: top;\n",
       "    }\n",
       "\n",
       "    .dataframe thead th {\n",
       "        text-align: right;\n",
       "    }\n",
       "</style>\n",
       "<table border=\"1\" class=\"dataframe\">\n",
       "  <thead>\n",
       "    <tr style=\"text-align: right;\">\n",
       "      <th></th>\n",
       "      <th>Temperature (degrees C)</th>\n",
       "      <th>Precipitation (mm)</th>\n",
       "      <th>Wind direction (degrees)</th>\n",
       "      <th>Wind speed (km/h)</th>\n",
       "      <th>Wind gust (km/h)</th>\n",
       "      <th>Pressure (hPa)</th>\n",
       "    </tr>\n",
       "    <tr>\n",
       "      <th>Date_Hour</th>\n",
       "      <th></th>\n",
       "      <th></th>\n",
       "      <th></th>\n",
       "      <th></th>\n",
       "      <th></th>\n",
       "      <th></th>\n",
       "    </tr>\n",
       "  </thead>\n",
       "  <tbody>\n",
       "    <tr>\n",
       "      <th>2018-01-01 00:00:00</th>\n",
       "      <td>7.0</td>\n",
       "      <td>NaN</td>\n",
       "      <td>250.0</td>\n",
       "      <td>31.7</td>\n",
       "      <td>NaN</td>\n",
       "      <td>997.5</td>\n",
       "    </tr>\n",
       "    <tr>\n",
       "      <th>2018-01-01 01:00:00</th>\n",
       "      <td>6.5</td>\n",
       "      <td>NaN</td>\n",
       "      <td>250.0</td>\n",
       "      <td>29.5</td>\n",
       "      <td>NaN</td>\n",
       "      <td>998.5</td>\n",
       "    </tr>\n",
       "    <tr>\n",
       "      <th>2018-01-01 02:00:00</th>\n",
       "      <td>6.0</td>\n",
       "      <td>NaN</td>\n",
       "      <td>240.0</td>\n",
       "      <td>24.1</td>\n",
       "      <td>NaN</td>\n",
       "      <td>999.5</td>\n",
       "    </tr>\n",
       "    <tr>\n",
       "      <th>2018-01-01 03:00:00</th>\n",
       "      <td>5.6</td>\n",
       "      <td>NaN</td>\n",
       "      <td>240.0</td>\n",
       "      <td>25.9</td>\n",
       "      <td>NaN</td>\n",
       "      <td>999.5</td>\n",
       "    </tr>\n",
       "    <tr>\n",
       "      <th>2018-01-01 04:00:00</th>\n",
       "      <td>6.0</td>\n",
       "      <td>NaN</td>\n",
       "      <td>230.0</td>\n",
       "      <td>20.5</td>\n",
       "      <td>NaN</td>\n",
       "      <td>999.7</td>\n",
       "    </tr>\n",
       "  </tbody>\n",
       "</table>\n",
       "</div>"
      ],
      "text/plain": [
       "                     Temperature (degrees C)  Precipitation (mm)  \\\n",
       "Date_Hour                                                          \n",
       "2018-01-01 00:00:00                      7.0                 NaN   \n",
       "2018-01-01 01:00:00                      6.5                 NaN   \n",
       "2018-01-01 02:00:00                      6.0                 NaN   \n",
       "2018-01-01 03:00:00                      5.6                 NaN   \n",
       "2018-01-01 04:00:00                      6.0                 NaN   \n",
       "\n",
       "                     Wind direction (degrees)  Wind speed (km/h)  \\\n",
       "Date_Hour                                                          \n",
       "2018-01-01 00:00:00                     250.0               31.7   \n",
       "2018-01-01 01:00:00                     250.0               29.5   \n",
       "2018-01-01 02:00:00                     240.0               24.1   \n",
       "2018-01-01 03:00:00                     240.0               25.9   \n",
       "2018-01-01 04:00:00                     230.0               20.5   \n",
       "\n",
       "                     Wind gust (km/h)  Pressure (hPa)  \n",
       "Date_Hour                                              \n",
       "2018-01-01 00:00:00               NaN           997.5  \n",
       "2018-01-01 01:00:00               NaN           998.5  \n",
       "2018-01-01 02:00:00               NaN           999.5  \n",
       "2018-01-01 03:00:00               NaN           999.5  \n",
       "2018-01-01 04:00:00               NaN           999.7  "
      ]
     },
     "execution_count": 23,
     "metadata": {},
     "output_type": "execute_result"
    }
   ],
   "source": [
    "# Dataframe of Weather\n",
    "df_weather = pd.read_csv(file_name_3,\n",
    "                        sep = \",\",\n",
    "                        index_col = 0\n",
    "                        )\n",
    "\n",
    "# Let the Dataframe be from 2018-01-01 to 2021-02-28\n",
    "df_weather = df_weather[\"2018-01-01\" : \"2021:02-28\"]\n",
    "\n",
    "# Show the Dataframe\n",
    "df_weather.head()"
   ]
  },
  {
   "cell_type": "markdown",
   "id": "57e34875",
   "metadata": {},
   "source": [
    "## Impact of Percipitation level on PM2.5 and PM10 in Marylebone"
   ]
  },
  {
   "cell_type": "code",
   "execution_count": 24,
   "id": "147041d7",
   "metadata": {},
   "outputs": [],
   "source": [
    "# Add Precipitation to the Marylebone's Dataframe\n",
    "df_Marylebone[\"Precipitation (mm)\"] = df_weather[\"Precipitation (mm)\"]"
   ]
  },
  {
   "cell_type": "code",
   "execution_count": 25,
   "id": "da9ecf28",
   "metadata": {},
   "outputs": [
    {
     "data": {
      "text/html": [
       "<div>\n",
       "<style scoped>\n",
       "    .dataframe tbody tr th:only-of-type {\n",
       "        vertical-align: middle;\n",
       "    }\n",
       "\n",
       "    .dataframe tbody tr th {\n",
       "        vertical-align: top;\n",
       "    }\n",
       "\n",
       "    .dataframe thead th {\n",
       "        text-align: right;\n",
       "    }\n",
       "</style>\n",
       "<table border=\"1\" class=\"dataframe\">\n",
       "  <thead>\n",
       "    <tr style=\"text-align: right;\">\n",
       "      <th></th>\n",
       "      <th>Hour of Day</th>\n",
       "      <th>Day of Week</th>\n",
       "      <th>PM10 particulate matter (Hourly measured)</th>\n",
       "      <th>Status PM10</th>\n",
       "      <th>PM2.5 particulate matter (Hourly measured)</th>\n",
       "      <th>Status PM2.5</th>\n",
       "      <th>Nitrogen dioxide</th>\n",
       "      <th>Status NO2</th>\n",
       "      <th>Precipitation (mm)</th>\n",
       "    </tr>\n",
       "    <tr>\n",
       "      <th>Date Time</th>\n",
       "      <th></th>\n",
       "      <th></th>\n",
       "      <th></th>\n",
       "      <th></th>\n",
       "      <th></th>\n",
       "      <th></th>\n",
       "      <th></th>\n",
       "      <th></th>\n",
       "      <th></th>\n",
       "    </tr>\n",
       "  </thead>\n",
       "  <tbody>\n",
       "    <tr>\n",
       "      <th>2018-01-01 00:00:00</th>\n",
       "      <td>0</td>\n",
       "      <td>6</td>\n",
       "      <td>NaN</td>\n",
       "      <td>N ugm-3 (TEOM FDMS)</td>\n",
       "      <td>NaN</td>\n",
       "      <td>V ugm-3 (TEOM FDMS)</td>\n",
       "      <td>NaN</td>\n",
       "      <td>V ugm-3</td>\n",
       "      <td>NaN</td>\n",
       "    </tr>\n",
       "    <tr>\n",
       "      <th>2018-01-01 01:00:00</th>\n",
       "      <td>1</td>\n",
       "      <td>0</td>\n",
       "      <td>24.6</td>\n",
       "      <td>V ugm-3 (TEOM FDMS)</td>\n",
       "      <td>12.7</td>\n",
       "      <td>V ugm-3 (TEOM FDMS)</td>\n",
       "      <td>79.05960</td>\n",
       "      <td>V ugm-3</td>\n",
       "      <td>NaN</td>\n",
       "    </tr>\n",
       "    <tr>\n",
       "      <th>2018-01-01 02:00:00</th>\n",
       "      <td>2</td>\n",
       "      <td>0</td>\n",
       "      <td>18.7</td>\n",
       "      <td>V ugm-3 (TEOM FDMS)</td>\n",
       "      <td>11.6</td>\n",
       "      <td>V ugm-3 (TEOM FDMS)</td>\n",
       "      <td>97.05587</td>\n",
       "      <td>V ugm-3</td>\n",
       "      <td>NaN</td>\n",
       "    </tr>\n",
       "    <tr>\n",
       "      <th>2018-01-01 03:00:00</th>\n",
       "      <td>3</td>\n",
       "      <td>0</td>\n",
       "      <td>17.2</td>\n",
       "      <td>V ugm-3 (TEOM FDMS)</td>\n",
       "      <td>7.6</td>\n",
       "      <td>V ugm-3 (TEOM FDMS)</td>\n",
       "      <td>101.07355</td>\n",
       "      <td>V ugm-3</td>\n",
       "      <td>NaN</td>\n",
       "    </tr>\n",
       "    <tr>\n",
       "      <th>2018-01-01 04:00:00</th>\n",
       "      <td>4</td>\n",
       "      <td>0</td>\n",
       "      <td>10.8</td>\n",
       "      <td>V ugm-3 (TEOM FDMS)</td>\n",
       "      <td>2.3</td>\n",
       "      <td>V ugm-3 (TEOM FDMS)</td>\n",
       "      <td>81.56557</td>\n",
       "      <td>V ugm-3</td>\n",
       "      <td>NaN</td>\n",
       "    </tr>\n",
       "  </tbody>\n",
       "</table>\n",
       "</div>"
      ],
      "text/plain": [
       "                     Hour of Day  Day of Week  \\\n",
       "Date Time                                       \n",
       "2018-01-01 00:00:00            0            6   \n",
       "2018-01-01 01:00:00            1            0   \n",
       "2018-01-01 02:00:00            2            0   \n",
       "2018-01-01 03:00:00            3            0   \n",
       "2018-01-01 04:00:00            4            0   \n",
       "\n",
       "                     PM10 particulate matter (Hourly measured)  \\\n",
       "Date Time                                                        \n",
       "2018-01-01 00:00:00                                        NaN   \n",
       "2018-01-01 01:00:00                                       24.6   \n",
       "2018-01-01 02:00:00                                       18.7   \n",
       "2018-01-01 03:00:00                                       17.2   \n",
       "2018-01-01 04:00:00                                       10.8   \n",
       "\n",
       "                             Status PM10  \\\n",
       "Date Time                                  \n",
       "2018-01-01 00:00:00  N ugm-3 (TEOM FDMS)   \n",
       "2018-01-01 01:00:00  V ugm-3 (TEOM FDMS)   \n",
       "2018-01-01 02:00:00  V ugm-3 (TEOM FDMS)   \n",
       "2018-01-01 03:00:00  V ugm-3 (TEOM FDMS)   \n",
       "2018-01-01 04:00:00  V ugm-3 (TEOM FDMS)   \n",
       "\n",
       "                     PM2.5 particulate matter (Hourly measured)  \\\n",
       "Date Time                                                         \n",
       "2018-01-01 00:00:00                                         NaN   \n",
       "2018-01-01 01:00:00                                        12.7   \n",
       "2018-01-01 02:00:00                                        11.6   \n",
       "2018-01-01 03:00:00                                         7.6   \n",
       "2018-01-01 04:00:00                                         2.3   \n",
       "\n",
       "                            Status PM2.5  Nitrogen dioxide Status NO2  \\\n",
       "Date Time                                                               \n",
       "2018-01-01 00:00:00  V ugm-3 (TEOM FDMS)               NaN    V ugm-3   \n",
       "2018-01-01 01:00:00  V ugm-3 (TEOM FDMS)          79.05960    V ugm-3   \n",
       "2018-01-01 02:00:00  V ugm-3 (TEOM FDMS)          97.05587    V ugm-3   \n",
       "2018-01-01 03:00:00  V ugm-3 (TEOM FDMS)         101.07355    V ugm-3   \n",
       "2018-01-01 04:00:00  V ugm-3 (TEOM FDMS)          81.56557    V ugm-3   \n",
       "\n",
       "                     Precipitation (mm)  \n",
       "Date Time                                \n",
       "2018-01-01 00:00:00                 NaN  \n",
       "2018-01-01 01:00:00                 NaN  \n",
       "2018-01-01 02:00:00                 NaN  \n",
       "2018-01-01 03:00:00                 NaN  \n",
       "2018-01-01 04:00:00                 NaN  "
      ]
     },
     "execution_count": 25,
     "metadata": {},
     "output_type": "execute_result"
    }
   ],
   "source": [
    "# Show the Dataframe\n",
    "df_Marylebone.head()"
   ]
  },
  {
   "cell_type": "code",
   "execution_count": 26,
   "id": "a64572fe",
   "metadata": {},
   "outputs": [
    {
     "data": {
      "text/html": [
       "<div>\n",
       "<style scoped>\n",
       "    .dataframe tbody tr th:only-of-type {\n",
       "        vertical-align: middle;\n",
       "    }\n",
       "\n",
       "    .dataframe tbody tr th {\n",
       "        vertical-align: top;\n",
       "    }\n",
       "\n",
       "    .dataframe thead th {\n",
       "        text-align: right;\n",
       "    }\n",
       "</style>\n",
       "<table border=\"1\" class=\"dataframe\">\n",
       "  <thead>\n",
       "    <tr style=\"text-align: right;\">\n",
       "      <th></th>\n",
       "      <th>Hour of Day</th>\n",
       "      <th>Day of Week</th>\n",
       "      <th>PM10 particulate matter (Hourly measured)</th>\n",
       "      <th>Status PM10</th>\n",
       "      <th>PM2.5 particulate matter (Hourly measured)</th>\n",
       "      <th>Status PM2.5</th>\n",
       "      <th>Nitrogen dioxide</th>\n",
       "      <th>Status NO2</th>\n",
       "      <th>Precipitation (mm)</th>\n",
       "      <th>Precipitation level</th>\n",
       "    </tr>\n",
       "    <tr>\n",
       "      <th>Date Time</th>\n",
       "      <th></th>\n",
       "      <th></th>\n",
       "      <th></th>\n",
       "      <th></th>\n",
       "      <th></th>\n",
       "      <th></th>\n",
       "      <th></th>\n",
       "      <th></th>\n",
       "      <th></th>\n",
       "      <th></th>\n",
       "    </tr>\n",
       "  </thead>\n",
       "  <tbody>\n",
       "    <tr>\n",
       "      <th>2018-01-01 00:00:00</th>\n",
       "      <td>0</td>\n",
       "      <td>6</td>\n",
       "      <td>NaN</td>\n",
       "      <td>N ugm-3 (TEOM FDMS)</td>\n",
       "      <td>NaN</td>\n",
       "      <td>V ugm-3 (TEOM FDMS)</td>\n",
       "      <td>NaN</td>\n",
       "      <td>V ugm-3</td>\n",
       "      <td>NaN</td>\n",
       "      <td>NaN</td>\n",
       "    </tr>\n",
       "    <tr>\n",
       "      <th>2018-01-01 01:00:00</th>\n",
       "      <td>1</td>\n",
       "      <td>0</td>\n",
       "      <td>24.6</td>\n",
       "      <td>V ugm-3 (TEOM FDMS)</td>\n",
       "      <td>12.7</td>\n",
       "      <td>V ugm-3 (TEOM FDMS)</td>\n",
       "      <td>79.05960</td>\n",
       "      <td>V ugm-3</td>\n",
       "      <td>NaN</td>\n",
       "      <td>NaN</td>\n",
       "    </tr>\n",
       "    <tr>\n",
       "      <th>2018-01-01 02:00:00</th>\n",
       "      <td>2</td>\n",
       "      <td>0</td>\n",
       "      <td>18.7</td>\n",
       "      <td>V ugm-3 (TEOM FDMS)</td>\n",
       "      <td>11.6</td>\n",
       "      <td>V ugm-3 (TEOM FDMS)</td>\n",
       "      <td>97.05587</td>\n",
       "      <td>V ugm-3</td>\n",
       "      <td>NaN</td>\n",
       "      <td>NaN</td>\n",
       "    </tr>\n",
       "    <tr>\n",
       "      <th>2018-01-01 03:00:00</th>\n",
       "      <td>3</td>\n",
       "      <td>0</td>\n",
       "      <td>17.2</td>\n",
       "      <td>V ugm-3 (TEOM FDMS)</td>\n",
       "      <td>7.6</td>\n",
       "      <td>V ugm-3 (TEOM FDMS)</td>\n",
       "      <td>101.07355</td>\n",
       "      <td>V ugm-3</td>\n",
       "      <td>NaN</td>\n",
       "      <td>NaN</td>\n",
       "    </tr>\n",
       "    <tr>\n",
       "      <th>2018-01-01 04:00:00</th>\n",
       "      <td>4</td>\n",
       "      <td>0</td>\n",
       "      <td>10.8</td>\n",
       "      <td>V ugm-3 (TEOM FDMS)</td>\n",
       "      <td>2.3</td>\n",
       "      <td>V ugm-3 (TEOM FDMS)</td>\n",
       "      <td>81.56557</td>\n",
       "      <td>V ugm-3</td>\n",
       "      <td>NaN</td>\n",
       "      <td>NaN</td>\n",
       "    </tr>\n",
       "  </tbody>\n",
       "</table>\n",
       "</div>"
      ],
      "text/plain": [
       "                     Hour of Day  Day of Week  \\\n",
       "Date Time                                       \n",
       "2018-01-01 00:00:00            0            6   \n",
       "2018-01-01 01:00:00            1            0   \n",
       "2018-01-01 02:00:00            2            0   \n",
       "2018-01-01 03:00:00            3            0   \n",
       "2018-01-01 04:00:00            4            0   \n",
       "\n",
       "                     PM10 particulate matter (Hourly measured)  \\\n",
       "Date Time                                                        \n",
       "2018-01-01 00:00:00                                        NaN   \n",
       "2018-01-01 01:00:00                                       24.6   \n",
       "2018-01-01 02:00:00                                       18.7   \n",
       "2018-01-01 03:00:00                                       17.2   \n",
       "2018-01-01 04:00:00                                       10.8   \n",
       "\n",
       "                             Status PM10  \\\n",
       "Date Time                                  \n",
       "2018-01-01 00:00:00  N ugm-3 (TEOM FDMS)   \n",
       "2018-01-01 01:00:00  V ugm-3 (TEOM FDMS)   \n",
       "2018-01-01 02:00:00  V ugm-3 (TEOM FDMS)   \n",
       "2018-01-01 03:00:00  V ugm-3 (TEOM FDMS)   \n",
       "2018-01-01 04:00:00  V ugm-3 (TEOM FDMS)   \n",
       "\n",
       "                     PM2.5 particulate matter (Hourly measured)  \\\n",
       "Date Time                                                         \n",
       "2018-01-01 00:00:00                                         NaN   \n",
       "2018-01-01 01:00:00                                        12.7   \n",
       "2018-01-01 02:00:00                                        11.6   \n",
       "2018-01-01 03:00:00                                         7.6   \n",
       "2018-01-01 04:00:00                                         2.3   \n",
       "\n",
       "                            Status PM2.5  Nitrogen dioxide Status NO2  \\\n",
       "Date Time                                                               \n",
       "2018-01-01 00:00:00  V ugm-3 (TEOM FDMS)               NaN    V ugm-3   \n",
       "2018-01-01 01:00:00  V ugm-3 (TEOM FDMS)          79.05960    V ugm-3   \n",
       "2018-01-01 02:00:00  V ugm-3 (TEOM FDMS)          97.05587    V ugm-3   \n",
       "2018-01-01 03:00:00  V ugm-3 (TEOM FDMS)         101.07355    V ugm-3   \n",
       "2018-01-01 04:00:00  V ugm-3 (TEOM FDMS)          81.56557    V ugm-3   \n",
       "\n",
       "                     Precipitation (mm) Precipitation level  \n",
       "Date Time                                                    \n",
       "2018-01-01 00:00:00                 NaN                 NaN  \n",
       "2018-01-01 01:00:00                 NaN                 NaN  \n",
       "2018-01-01 02:00:00                 NaN                 NaN  \n",
       "2018-01-01 03:00:00                 NaN                 NaN  \n",
       "2018-01-01 04:00:00                 NaN                 NaN  "
      ]
     },
     "execution_count": 26,
     "metadata": {},
     "output_type": "execute_result"
    }
   ],
   "source": [
    "# Function to set the range of precipitation\n",
    "def precipitation_level(mm):\n",
    "    if mm <= 1:\n",
    "        return \"0-1\"\n",
    "    elif mm <= 2:\n",
    "        return\"1.1-2\"\n",
    "    elif mm <= 3:\n",
    "        return \"2.1-3\"\n",
    "    elif mm >3:\n",
    "        return \">3\"\n",
    "    else:\n",
    "        return \"NaN\"\n",
    "\n",
    "# Apply the function to the Precipitation column in Marylebone's Dataframe\n",
    "df_Marylebone[\"Precipitation level\"] = df_Marylebone[\"Precipitation (mm)\"].apply(precipitation_level)\n",
    "\n",
    "# Show the Dataframe\n",
    "df_Marylebone.head()"
   ]
  },
  {
   "cell_type": "code",
   "execution_count": 27,
   "id": "f5350e20",
   "metadata": {},
   "outputs": [
    {
     "data": {
      "image/png": "[encoded data removed]",
      "text/plain": [
       "<Figure size 334x200 with 1 Axes>"
      ]
     },
     "metadata": {},
     "output_type": "display_data"
    },
    {
     "data": {
      "image/png": "[encoded data removed]",
      "text/plain": [
       "<Figure size 334x200 with 1 Axes>"
      ]
     },
     "metadata": {},
     "output_type": "display_data"
    }
   ],
   "source": [
    "# Scatter plot of PM10 against precipitation in Marylebone\n",
    "\n",
    "# Size of the plots\n",
    "fig, ax = plt.subplots(figsize = (3.34, 2))\n",
    "\n",
    "ax.scatter(df_Marylebone[\"Precipitation (mm)\"],\n",
    "           df_Marylebone[\"PM10 particulate matter (Hourly measured)\"],\n",
    "           color=\"blue\",\n",
    "           alpha=0.1,\n",
    "           label=\"PM10\"\n",
    "          )\n",
    "\n",
    "# Set the titles\n",
    "ax.set_title(\"PM10 vs Precipitation in Marylebone\")\n",
    "\n",
    "# Set the x-axis\n",
    "ax.set_xlabel(\"Precipitation (mm)\")\n",
    "\n",
    "# Set the y-axis\n",
    "ax.set_ylabel(\"PM10/ugm-3\")\n",
    "\n",
    "ax.legend()\n",
    "\n",
    "# Show the plot\n",
    "plt.show()\n",
    "\n",
    "\n",
    "\n",
    "\n",
    "# Scatter plot of PM2.5 against precipitation in Marylebone\n",
    "\n",
    "# Size of the plots\n",
    "fig, ax = plt.subplots(figsize = (3.34, 2))\n",
    "ax.scatter(df_Marylebone[\"Precipitation (mm)\"],\n",
    "           df_Marylebone[\"PM2.5 particulate matter (Hourly measured)\"],\n",
    "           color=\"red\",\n",
    "           alpha=0.1,\n",
    "           label=\"PM2.5\"\n",
    "          )\n",
    "\n",
    "# Set the titles\n",
    "ax.set_title(\"PM2.5 vs Precipitation in Marylebone\")\n",
    "\n",
    "# Set the x-axis\n",
    "ax.set_xlabel(\"Precipitation (mm)\")\n",
    "\n",
    "# Set the y-axis\n",
    "ax.set_ylabel(\"PM2.5/ugm-3\")\n",
    "\n",
    "\n",
    "ax.legend()\n",
    "\n",
    "# Show the plot\n",
    "plt.show()\n",
    "\n",
    "\n",
    "\n"
   ]
  },
  {
   "cell_type": "code",
   "execution_count": 28,
   "id": "bd4063be",
   "metadata": {},
   "outputs": [
    {
     "name": "stdout",
     "output_type": "stream",
     "text": [
      "                   PM10  Precipitation\n",
      "PM10           1.000000      -0.119858\n",
      "Precipitation -0.119858       1.000000\n"
     ]
    }
   ],
   "source": [
    "# Correlation between PM10 and precipitation\n",
    "df_cor = {\"PM10\": df_Marylebone[\"PM10 particulate matter (Hourly measured)\"],\n",
    "          \"Precipitation\": df_Marylebone[\"Precipitation (mm)\"]\n",
    "         }\n",
    "\n",
    "data = pd.DataFrame(df_cor)\n",
    "\n",
    "print(data.corr())"
   ]
  },
  {
   "cell_type": "code",
   "execution_count": 29,
   "id": "27df0026",
   "metadata": {},
   "outputs": [
    {
     "name": "stdout",
     "output_type": "stream",
     "text": [
      "                  PM2.5  Precipitation\n",
      "PM2.5          1.000000      -0.094015\n",
      "Precipitation -0.094015       1.000000\n"
     ]
    }
   ],
   "source": [
    "# Correlation between PM2.5 and precipitation\n",
    "\n",
    "df_cor = {\"PM2.5\": df_Marylebone[\"PM2.5 particulate matter (Hourly measured)\"],\n",
    "          \"Precipitation\": df_Marylebone[\"Precipitation (mm)\"]\n",
    "         }\n",
    "\n",
    "data = pd.DataFrame(df_cor)\n",
    "\n",
    "print(data.corr())"
   ]
  },
  {
   "cell_type": "code",
   "execution_count": 30,
   "id": "f6d767bd",
   "metadata": {},
   "outputs": [],
   "source": [
    "# Dataframe to show the mean of PM10 and PM2.5 according to the precipitation level\n",
    "\n",
    "df_precipitation = df_Marylebone.groupby(\"Precipitation level\")[[\n",
    "    \"PM10 particulate matter (Hourly measured)\",\n",
    "    \"PM2.5 particulate matter (Hourly measured)\"\n",
    "]].mean().reset_index()\n",
    "\n",
    "# Set the index column\n",
    "df_precipitation = df_precipitation.set_index(\"Precipitation level\")"
   ]
  },
  {
   "cell_type": "code",
   "execution_count": 31,
   "id": "4ed2022a",
   "metadata": {},
   "outputs": [
    {
     "data": {
      "text/html": [
       "<div>\n",
       "<style scoped>\n",
       "    .dataframe tbody tr th:only-of-type {\n",
       "        vertical-align: middle;\n",
       "    }\n",
       "\n",
       "    .dataframe tbody tr th {\n",
       "        vertical-align: top;\n",
       "    }\n",
       "\n",
       "    .dataframe thead th {\n",
       "        text-align: right;\n",
       "    }\n",
       "</style>\n",
       "<table border=\"1\" class=\"dataframe\">\n",
       "  <thead>\n",
       "    <tr style=\"text-align: right;\">\n",
       "      <th></th>\n",
       "      <th>PM10 particulate matter (Hourly measured)</th>\n",
       "      <th>PM2.5 particulate matter (Hourly measured)</th>\n",
       "    </tr>\n",
       "    <tr>\n",
       "      <th>Precipitation level</th>\n",
       "      <th></th>\n",
       "      <th></th>\n",
       "    </tr>\n",
       "  </thead>\n",
       "  <tbody>\n",
       "    <tr>\n",
       "      <th>0-1</th>\n",
       "      <td>20.163354</td>\n",
       "      <td>12.808594</td>\n",
       "    </tr>\n",
       "    <tr>\n",
       "      <th>1.1-2</th>\n",
       "      <td>13.288921</td>\n",
       "      <td>8.202338</td>\n",
       "    </tr>\n",
       "    <tr>\n",
       "      <th>2.1-3</th>\n",
       "      <td>12.323636</td>\n",
       "      <td>7.503279</td>\n",
       "    </tr>\n",
       "    <tr>\n",
       "      <th>&gt;3</th>\n",
       "      <td>12.287500</td>\n",
       "      <td>8.923077</td>\n",
       "    </tr>\n",
       "    <tr>\n",
       "      <th>NaN</th>\n",
       "      <td>24.995353</td>\n",
       "      <td>15.693128</td>\n",
       "    </tr>\n",
       "  </tbody>\n",
       "</table>\n",
       "</div>"
      ],
      "text/plain": [
       "                     PM10 particulate matter (Hourly measured)  \\\n",
       "Precipitation level                                              \n",
       "0-1                                                  20.163354   \n",
       "1.1-2                                                13.288921   \n",
       "2.1-3                                                12.323636   \n",
       ">3                                                   12.287500   \n",
       "NaN                                                  24.995353   \n",
       "\n",
       "                     PM2.5 particulate matter (Hourly measured)  \n",
       "Precipitation level                                              \n",
       "0-1                                                   12.808594  \n",
       "1.1-2                                                  8.202338  \n",
       "2.1-3                                                  7.503279  \n",
       ">3                                                     8.923077  \n",
       "NaN                                                   15.693128  "
      ]
     },
     "execution_count": 31,
     "metadata": {},
     "output_type": "execute_result"
    }
   ],
   "source": [
    "# Show the Dataframe\n",
    "df_precipitation"
   ]
  },
  {
   "cell_type": "markdown",
   "id": "3855535a",
   "metadata": {},
   "source": [
    "## Impact of Wind Speed on PM10 and PM2.5 in Marylebone"
   ]
  },
  {
   "cell_type": "code",
   "execution_count": 32,
   "id": "a5bf4394",
   "metadata": {},
   "outputs": [
    {
     "data": {
      "text/html": [
       "<div>\n",
       "<style scoped>\n",
       "    .dataframe tbody tr th:only-of-type {\n",
       "        vertical-align: middle;\n",
       "    }\n",
       "\n",
       "    .dataframe tbody tr th {\n",
       "        vertical-align: top;\n",
       "    }\n",
       "\n",
       "    .dataframe thead th {\n",
       "        text-align: right;\n",
       "    }\n",
       "</style>\n",
       "<table border=\"1\" class=\"dataframe\">\n",
       "  <thead>\n",
       "    <tr style=\"text-align: right;\">\n",
       "      <th></th>\n",
       "      <th>Hour of Day</th>\n",
       "      <th>Day of Week</th>\n",
       "      <th>PM10 particulate matter (Hourly measured)</th>\n",
       "      <th>Status PM10</th>\n",
       "      <th>PM2.5 particulate matter (Hourly measured)</th>\n",
       "      <th>Status PM2.5</th>\n",
       "      <th>Nitrogen dioxide</th>\n",
       "      <th>Status NO2</th>\n",
       "      <th>Precipitation (mm)</th>\n",
       "      <th>Precipitation level</th>\n",
       "      <th>Wind speed (km/h)</th>\n",
       "    </tr>\n",
       "    <tr>\n",
       "      <th>Date Time</th>\n",
       "      <th></th>\n",
       "      <th></th>\n",
       "      <th></th>\n",
       "      <th></th>\n",
       "      <th></th>\n",
       "      <th></th>\n",
       "      <th></th>\n",
       "      <th></th>\n",
       "      <th></th>\n",
       "      <th></th>\n",
       "      <th></th>\n",
       "    </tr>\n",
       "  </thead>\n",
       "  <tbody>\n",
       "    <tr>\n",
       "      <th>2018-01-01 00:00:00</th>\n",
       "      <td>0</td>\n",
       "      <td>6</td>\n",
       "      <td>NaN</td>\n",
       "      <td>N ugm-3 (TEOM FDMS)</td>\n",
       "      <td>NaN</td>\n",
       "      <td>V ugm-3 (TEOM FDMS)</td>\n",
       "      <td>NaN</td>\n",
       "      <td>V ugm-3</td>\n",
       "      <td>NaN</td>\n",
       "      <td>NaN</td>\n",
       "      <td>31.7</td>\n",
       "    </tr>\n",
       "    <tr>\n",
       "      <th>2018-01-01 01:00:00</th>\n",
       "      <td>1</td>\n",
       "      <td>0</td>\n",
       "      <td>24.6</td>\n",
       "      <td>V ugm-3 (TEOM FDMS)</td>\n",
       "      <td>12.7</td>\n",
       "      <td>V ugm-3 (TEOM FDMS)</td>\n",
       "      <td>79.05960</td>\n",
       "      <td>V ugm-3</td>\n",
       "      <td>NaN</td>\n",
       "      <td>NaN</td>\n",
       "      <td>29.5</td>\n",
       "    </tr>\n",
       "    <tr>\n",
       "      <th>2018-01-01 02:00:00</th>\n",
       "      <td>2</td>\n",
       "      <td>0</td>\n",
       "      <td>18.7</td>\n",
       "      <td>V ugm-3 (TEOM FDMS)</td>\n",
       "      <td>11.6</td>\n",
       "      <td>V ugm-3 (TEOM FDMS)</td>\n",
       "      <td>97.05587</td>\n",
       "      <td>V ugm-3</td>\n",
       "      <td>NaN</td>\n",
       "      <td>NaN</td>\n",
       "      <td>24.1</td>\n",
       "    </tr>\n",
       "    <tr>\n",
       "      <th>2018-01-01 03:00:00</th>\n",
       "      <td>3</td>\n",
       "      <td>0</td>\n",
       "      <td>17.2</td>\n",
       "      <td>V ugm-3 (TEOM FDMS)</td>\n",
       "      <td>7.6</td>\n",
       "      <td>V ugm-3 (TEOM FDMS)</td>\n",
       "      <td>101.07355</td>\n",
       "      <td>V ugm-3</td>\n",
       "      <td>NaN</td>\n",
       "      <td>NaN</td>\n",
       "      <td>25.9</td>\n",
       "    </tr>\n",
       "    <tr>\n",
       "      <th>2018-01-01 04:00:00</th>\n",
       "      <td>4</td>\n",
       "      <td>0</td>\n",
       "      <td>10.8</td>\n",
       "      <td>V ugm-3 (TEOM FDMS)</td>\n",
       "      <td>2.3</td>\n",
       "      <td>V ugm-3 (TEOM FDMS)</td>\n",
       "      <td>81.56557</td>\n",
       "      <td>V ugm-3</td>\n",
       "      <td>NaN</td>\n",
       "      <td>NaN</td>\n",
       "      <td>20.5</td>\n",
       "    </tr>\n",
       "  </tbody>\n",
       "</table>\n",
       "</div>"
      ],
      "text/plain": [
       "                     Hour of Day  Day of Week  \\\n",
       "Date Time                                       \n",
       "2018-01-01 00:00:00            0            6   \n",
       "2018-01-01 01:00:00            1            0   \n",
       "2018-01-01 02:00:00            2            0   \n",
       "2018-01-01 03:00:00            3            0   \n",
       "2018-01-01 04:00:00            4            0   \n",
       "\n",
       "                     PM10 particulate matter (Hourly measured)  \\\n",
       "Date Time                                                        \n",
       "2018-01-01 00:00:00                                        NaN   \n",
       "2018-01-01 01:00:00                                       24.6   \n",
       "2018-01-01 02:00:00                                       18.7   \n",
       "2018-01-01 03:00:00                                       17.2   \n",
       "2018-01-01 04:00:00                                       10.8   \n",
       "\n",
       "                             Status PM10  \\\n",
       "Date Time                                  \n",
       "2018-01-01 00:00:00  N ugm-3 (TEOM FDMS)   \n",
       "2018-01-01 01:00:00  V ugm-3 (TEOM FDMS)   \n",
       "2018-01-01 02:00:00  V ugm-3 (TEOM FDMS)   \n",
       "2018-01-01 03:00:00  V ugm-3 (TEOM FDMS)   \n",
       "2018-01-01 04:00:00  V ugm-3 (TEOM FDMS)   \n",
       "\n",
       "                     PM2.5 particulate matter (Hourly measured)  \\\n",
       "Date Time                                                         \n",
       "2018-01-01 00:00:00                                         NaN   \n",
       "2018-01-01 01:00:00                                        12.7   \n",
       "2018-01-01 02:00:00                                        11.6   \n",
       "2018-01-01 03:00:00                                         7.6   \n",
       "2018-01-01 04:00:00                                         2.3   \n",
       "\n",
       "                            Status PM2.5  Nitrogen dioxide Status NO2  \\\n",
       "Date Time                                                               \n",
       "2018-01-01 00:00:00  V ugm-3 (TEOM FDMS)               NaN    V ugm-3   \n",
       "2018-01-01 01:00:00  V ugm-3 (TEOM FDMS)          79.05960    V ugm-3   \n",
       "2018-01-01 02:00:00  V ugm-3 (TEOM FDMS)          97.05587    V ugm-3   \n",
       "2018-01-01 03:00:00  V ugm-3 (TEOM FDMS)         101.07355    V ugm-3   \n",
       "2018-01-01 04:00:00  V ugm-3 (TEOM FDMS)          81.56557    V ugm-3   \n",
       "\n",
       "                     Precipitation (mm) Precipitation level  Wind speed (km/h)  \n",
       "Date Time                                                                       \n",
       "2018-01-01 00:00:00                 NaN                 NaN               31.7  \n",
       "2018-01-01 01:00:00                 NaN                 NaN               29.5  \n",
       "2018-01-01 02:00:00                 NaN                 NaN               24.1  \n",
       "2018-01-01 03:00:00                 NaN                 NaN               25.9  \n",
       "2018-01-01 04:00:00                 NaN                 NaN               20.5  "
      ]
     },
     "execution_count": 32,
     "metadata": {},
     "output_type": "execute_result"
    }
   ],
   "source": [
    "# Add Wind Speed to the Marylebone Dataframe\n",
    "df_Marylebone[\"Wind speed (km/h)\"] = df_weather[\"Wind speed (km/h)\"]\n",
    "\n",
    "# Show the Dataframe\n",
    "df_Marylebone.head()"
   ]
  },
  {
   "cell_type": "code",
   "execution_count": 33,
   "id": "26c87c57",
   "metadata": {
    "scrolled": true
   },
   "outputs": [
    {
     "data": {
      "image/png": "[encoded data removed]",
      "text/plain": [
       "<Figure size 334x200 with 1 Axes>"
      ]
     },
     "metadata": {},
     "output_type": "display_data"
    },
    {
     "data": {
      "image/png": "[encoded data removed]",
      "text/plain": [
       "<Figure size 334x200 with 1 Axes>"
      ]
     },
     "metadata": {},
     "output_type": "display_data"
    }
   ],
   "source": [
    "# PM10 scatter plot against Wind speed in Marylebone\n",
    "\n",
    "# Size of the plot\n",
    "fig, ax = plt.subplots(figsize=(3.34,2))\n",
    "\n",
    "ax.scatter(df_Marylebone[\"Wind speed (km/h)\"],\n",
    "           df_Marylebone[\"PM10 particulate matter (Hourly measured)\"],\n",
    "           color=\"blue\", \n",
    "           alpha=0.01, \n",
    "           label=\"PM10\"\n",
    "          )\n",
    "\n",
    "# Set the title\n",
    "ax.set_title(\"PM10 vs Wind speed in Marylebone\")\n",
    "\n",
    "# Set the x-axis\n",
    "ax.set_xlabel(\"Wind speed (km/h)\")\n",
    "\n",
    "# Set the y-axis\n",
    "ax.set_ylabel(\"PM10/ugm-3\")\n",
    "\n",
    "ax.legend()\n",
    "\n",
    "# Show the plot\n",
    "plt.show()\n",
    "\n",
    "# PM2.5 scatter plot against Windspeed in Marylebone\n",
    "\n",
    "# Size of the plot\n",
    "fig, ax = plt.subplots(figsize=(3.34,2))\n",
    "\n",
    "ax.scatter(df_Marylebone[\"Wind speed (km/h)\"], \n",
    "           df_Marylebone[\"PM2.5 particulate matter (Hourly measured)\"],\n",
    "           color=\"red\", \n",
    "           alpha=0.01, \n",
    "           label=\"PM2.5\"\n",
    "          )\n",
    "\n",
    "# Set the title\n",
    "ax.set_title(\"PM2.5 vs Wind speed in Marylebone\")\n",
    "\n",
    "# Set the x-axis\n",
    "ax.set_xlabel(\"Wind speed (km/h)\")\n",
    "\n",
    "# Set the y-axis\n",
    "ax.set_ylabel(\"PM2.5/ugm-3\")\n",
    "\n",
    "ax.legend()\n",
    "\n",
    "# Show the plot\n",
    "plt.show()\n"
   ]
  },
  {
   "cell_type": "code",
   "execution_count": 34,
   "id": "6bffe2b0",
   "metadata": {},
   "outputs": [
    {
     "data": {
      "text/plain": [
       "66.6"
      ]
     },
     "execution_count": 34,
     "metadata": {},
     "output_type": "execute_result"
    }
   ],
   "source": [
    "# Max Wind Speed in km/h\n",
    "df_Marylebone[\"Wind speed (km/h)\"].max()"
   ]
  },
  {
   "cell_type": "code",
   "execution_count": 35,
   "id": "8ffe67f4",
   "metadata": {},
   "outputs": [
    {
     "data": {
      "text/plain": [
       "0.0"
      ]
     },
     "execution_count": 35,
     "metadata": {},
     "output_type": "execute_result"
    }
   ],
   "source": [
    "# Min Wind Speed in km/h\n",
    "df_Marylebone[\"Wind speed (km/h)\"].min()"
   ]
  },
  {
   "cell_type": "code",
   "execution_count": 36,
   "id": "20f8794f",
   "metadata": {},
   "outputs": [
    {
     "data": {
      "text/plain": [
       "14.737077922077921"
      ]
     },
     "execution_count": 36,
     "metadata": {},
     "output_type": "execute_result"
    }
   ],
   "source": [
    "# Mean of the Wind Speed in km/h\n",
    "df_Marylebone[\"Wind speed (km/h)\"].mean()"
   ]
  },
  {
   "cell_type": "code",
   "execution_count": 37,
   "id": "b3c01eb9",
   "metadata": {},
   "outputs": [
    {
     "data": {
      "text/plain": [
       "8.320616626066673"
      ]
     },
     "execution_count": 37,
     "metadata": {},
     "output_type": "execute_result"
    }
   ],
   "source": [
    "# Standard deviation of the Wind Speed in km/h\n",
    "df_Marylebone[\"Wind speed (km/h)\"].std()"
   ]
  },
  {
   "cell_type": "code",
   "execution_count": 38,
   "id": "0cab3434",
   "metadata": {},
   "outputs": [
    {
     "name": "stdout",
     "output_type": "stream",
     "text": [
      "                PM10  Wind speed\n",
      "PM10        1.000000   -0.202997\n",
      "Wind speed -0.202997    1.000000\n"
     ]
    }
   ],
   "source": [
    "# Correlation between PM10 and Wind speed\n",
    "\n",
    "df_cor = {\"PM10\": df_Marylebone[\"PM10 particulate matter (Hourly measured)\"],\n",
    "          \"Wind speed\": df_Marylebone[\"Wind speed (km/h)\"]\n",
    "         }\n",
    "\n",
    "data = pd.DataFrame(df_cor)\n",
    "\n",
    "print(data.corr())"
   ]
  },
  {
   "cell_type": "code",
   "execution_count": 39,
   "id": "65f1cfba",
   "metadata": {},
   "outputs": [
    {
     "name": "stdout",
     "output_type": "stream",
     "text": [
      "               PM2.5  Wind speed\n",
      "PM2.5       1.000000   -0.294777\n",
      "Wind speed -0.294777    1.000000\n"
     ]
    }
   ],
   "source": [
    "# Correlation between PM2.5 and Wind speed\n",
    "\n",
    "df_cor = {\"PM2.5\": df_Marylebone[\"PM2.5 particulate matter (Hourly measured)\"],\n",
    "          \"Wind speed\": df_Marylebone[\"Wind speed (km/h)\"]\n",
    "         }\n",
    "\n",
    "data = pd.DataFrame(df_cor)\n",
    "\n",
    "print(data.corr())"
   ]
  },
  {
   "cell_type": "code",
   "execution_count": 40,
   "id": "4b2ae9f4",
   "metadata": {},
   "outputs": [],
   "source": [
    "# Function to set the range of the Wind Speed in km/h\n",
    "def windspeed(s):\n",
    "    if s <= 5:\n",
    "        return \"0-5\"\n",
    "    elif s <= 10:\n",
    "        return\"5.1-10\"\n",
    "    elif s <= 15:\n",
    "        return \"10.1-15\"\n",
    "    elif s <= 20:\n",
    "        return \"15.1-20\"\n",
    "    elif s <= 25:\n",
    "        return \"20.1-25\"\n",
    "    elif s > 25:\n",
    "        return \">25\"\n",
    "    else:\n",
    "        return \"NaN\""
   ]
  },
  {
   "cell_type": "code",
   "execution_count": 41,
   "id": "a0fd47be",
   "metadata": {},
   "outputs": [],
   "source": [
    "# Apply the function to the Wind speed (km/h) in Marylebone's Dataframe\n",
    "df_Marylebone[\"Wind speed range (km/h)\"] = df_Marylebone[\"Wind speed (km/h)\"].apply(windspeed)"
   ]
  },
  {
   "cell_type": "code",
   "execution_count": 42,
   "id": "6e839daf",
   "metadata": {},
   "outputs": [
    {
     "data": {
      "text/html": [
       "<div>\n",
       "<style scoped>\n",
       "    .dataframe tbody tr th:only-of-type {\n",
       "        vertical-align: middle;\n",
       "    }\n",
       "\n",
       "    .dataframe tbody tr th {\n",
       "        vertical-align: top;\n",
       "    }\n",
       "\n",
       "    .dataframe thead th {\n",
       "        text-align: right;\n",
       "    }\n",
       "</style>\n",
       "<table border=\"1\" class=\"dataframe\">\n",
       "  <thead>\n",
       "    <tr style=\"text-align: right;\">\n",
       "      <th></th>\n",
       "      <th>PM10 particulate matter (Hourly measured)</th>\n",
       "      <th>PM2.5 particulate matter (Hourly measured)</th>\n",
       "    </tr>\n",
       "    <tr>\n",
       "      <th>Wind speed range (km/h)</th>\n",
       "      <th></th>\n",
       "      <th></th>\n",
       "    </tr>\n",
       "  </thead>\n",
       "  <tbody>\n",
       "    <tr>\n",
       "      <th>0-5</th>\n",
       "      <td>25.730861</td>\n",
       "      <td>18.663353</td>\n",
       "    </tr>\n",
       "    <tr>\n",
       "      <th>5.1-10</th>\n",
       "      <td>23.740920</td>\n",
       "      <td>16.687443</td>\n",
       "    </tr>\n",
       "    <tr>\n",
       "      <th>10.1-15</th>\n",
       "      <td>20.276271</td>\n",
       "      <td>12.593488</td>\n",
       "    </tr>\n",
       "    <tr>\n",
       "      <th>15.1-20</th>\n",
       "      <td>19.108057</td>\n",
       "      <td>11.031503</td>\n",
       "    </tr>\n",
       "    <tr>\n",
       "      <th>20.1-25</th>\n",
       "      <td>18.740042</td>\n",
       "      <td>10.328431</td>\n",
       "    </tr>\n",
       "    <tr>\n",
       "      <th>&gt;25</th>\n",
       "      <td>17.660778</td>\n",
       "      <td>9.024362</td>\n",
       "    </tr>\n",
       "  </tbody>\n",
       "</table>\n",
       "</div>"
      ],
      "text/plain": [
       "                         PM10 particulate matter (Hourly measured)  \\\n",
       "Wind speed range (km/h)                                              \n",
       "0-5                                                      25.730861   \n",
       "5.1-10                                                   23.740920   \n",
       "10.1-15                                                  20.276271   \n",
       "15.1-20                                                  19.108057   \n",
       "20.1-25                                                  18.740042   \n",
       ">25                                                      17.660778   \n",
       "\n",
       "                         PM2.5 particulate matter (Hourly measured)  \n",
       "Wind speed range (km/h)                                              \n",
       "0-5                                                       18.663353  \n",
       "5.1-10                                                    16.687443  \n",
       "10.1-15                                                   12.593488  \n",
       "15.1-20                                                   11.031503  \n",
       "20.1-25                                                   10.328431  \n",
       ">25                                                        9.024362  "
      ]
     },
     "execution_count": 42,
     "metadata": {},
     "output_type": "execute_result"
    }
   ],
   "source": [
    "# Dataframe to show the mean of PM10 and PM2.5 according to the Wind Speed range\n",
    "df_windspeed = df_Marylebone.groupby(\"Wind speed range (km/h)\")[[\n",
    "    \"PM10 particulate matter (Hourly measured)\",\n",
    "    \"PM2.5 particulate matter (Hourly measured)\"\n",
    "]].mean().reset_index()\n",
    "\n",
    "# Order the rows in Wind Speed range's column\n",
    "ordered_bins = [\"0-5\", \"5.1-10\", \"10.1-15\", \"15.1-20\", \"20.1-25\", \">25\"]\n",
    "\n",
    "df_windspeed[\"Wind speed range (km/h)\"] = pd.Categorical(\n",
    "    df_windspeed[\"Wind speed range (km/h)\"],\n",
    "    categories=ordered_bins,\n",
    "    ordered=True\n",
    ")\n",
    "\n",
    "df_windspeed = df_windspeed.sort_values(\"Wind speed range (km/h)\").reset_index(drop=True)\n",
    "\n",
    "# Set the index column\n",
    "df_windspeed = df_windspeed.set_index(\"Wind speed range (km/h)\")\n",
    "\n",
    "# Show the Dataframe\n",
    "df_windspeed"
   ]
  },
  {
   "cell_type": "markdown",
   "id": "5be275ee",
   "metadata": {},
   "source": [
    "## Impact of Temperature on PM10 and PM2.5 in Marylebone"
   ]
  },
  {
   "cell_type": "code",
   "execution_count": 43,
   "id": "f7efa54c",
   "metadata": {},
   "outputs": [
    {
     "data": {
      "image/png": "[encoded data removed]",
      "text/plain": [
       "<Figure size 334x200 with 1 Axes>"
      ]
     },
     "metadata": {},
     "output_type": "display_data"
    },
    {
     "data": {
      "image/png": "[encoded data removed]",
      "text/plain": [
       "<Figure size 334x200 with 1 Axes>"
      ]
     },
     "metadata": {},
     "output_type": "display_data"
    }
   ],
   "source": [
    "# Scatter plot of PM10 against Temperature in Marylebone\n",
    "\n",
    "# Size of the plots\n",
    "fig, ax = plt.subplots(figsize=(3.34,2))\n",
    "\n",
    "\n",
    "ax.scatter(df_weather[\"Temperature (degrees C)\"],\n",
    "           df_Marylebone[\"PM10 particulate matter (Hourly measured)\"],\n",
    "           color=\"blue\",\n",
    "           alpha=0.02,\n",
    "           label=\"PM2.5\"\n",
    "          )\n",
    "\n",
    "# Set the titles\n",
    "ax.set_title(\"PM10 vs Temperature in Marylebone\")\n",
    "\n",
    "# Set the x-axis\n",
    "ax.set_xlabel(\"Temperature (degrees C))\")\n",
    "\n",
    "# Set the y-axis\n",
    "ax.set_ylabel(\"PM10/ugm-3\")\n",
    "\n",
    "ax.legend()\n",
    "\n",
    "# Show the plots\n",
    "plt.show()\n",
    "\n",
    "\n",
    "\n",
    "# Scatter plot of PM2.5 against Temperature in Marylebone\n",
    "\n",
    "# Size of the plots\n",
    "fig, ax = plt.subplots(figsize=(3.34,2))\n",
    "\n",
    "ax.scatter(df_weather[\"Temperature (degrees C)\"],\n",
    "           df_Marylebone[\"PM2.5 particulate matter (Hourly measured)\"],\n",
    "           color=\"red\",\n",
    "           alpha=0.02,\n",
    "           label=\"PM2.5\"\n",
    "          )\n",
    "\n",
    "# Set the titles\n",
    "ax.set_title(\"PM2.5 vs Temperature in Marylebone\")\n",
    "\n",
    "# Set the x-axis\n",
    "ax.set_xlabel(\"Temperature (degrees C)\")\n",
    "\n",
    "# Set the y-axis\n",
    "ax.set_ylabel(\"PM2.5/ugm-3\")\n",
    "\n",
    "ax.legend()\n",
    "\n",
    "# Show the plots\n",
    "plt.show()"
   ]
  },
  {
   "cell_type": "code",
   "execution_count": 44,
   "id": "024a4bae",
   "metadata": {},
   "outputs": [
    {
     "name": "stdout",
     "output_type": "stream",
     "text": [
      "                   PM10  Precipitation\n",
      "PM10           1.000000      -0.020479\n",
      "Precipitation -0.020479       1.000000\n"
     ]
    }
   ],
   "source": [
    "# Correlation between PM10 and Temperature\n",
    "df_cor = {\"PM10\": df_Marylebone[\"PM10 particulate matter (Hourly measured)\"],\n",
    "          \"Precipitation\": df_weather[\"Temperature (degrees C)\"]\n",
    "         }\n",
    "\n",
    "data = pd.DataFrame(df_cor)\n",
    "\n",
    "print(data.corr())"
   ]
  },
  {
   "cell_type": "code",
   "execution_count": 45,
   "id": "5652a8d8",
   "metadata": {},
   "outputs": [
    {
     "name": "stdout",
     "output_type": "stream",
     "text": [
      "                 PM2.5  Precipitation\n",
      "PM2.5          1.00000       -0.07413\n",
      "Precipitation -0.07413        1.00000\n"
     ]
    }
   ],
   "source": [
    "# Correlation between PM2.5 and Temperature\n",
    "df_cor = {\"PM2.5\": df_Marylebone[\"PM2.5 particulate matter (Hourly measured)\"],\n",
    "          \"Precipitation\": df_weather[\"Temperature (degrees C)\"]\n",
    "         }\n",
    "\n",
    "data = pd.DataFrame(df_cor)\n",
    "\n",
    "print(data.corr())"
   ]
  },
  {
   "cell_type": "code",
   "execution_count": 46,
   "id": "d528c845",
   "metadata": {},
   "outputs": [],
   "source": [
    "# Function to set the range of temperature\n",
    "def temp(C):\n",
    "    if C <= 0:\n",
    "        return \"<=0\"\n",
    "    elif C <= 5:\n",
    "        return\"0.1-5\"\n",
    "    elif C <= 10:\n",
    "        return \"5.1-10\"\n",
    "    elif C <= 15:\n",
    "        return \"10.1-20\"\n",
    "    elif C <= 20:\n",
    "        return \"15.1-20\"\n",
    "    elif C > 20:\n",
    "        return \">20\"\n",
    "    else:\n",
    "        return \"NaN\""
   ]
  },
  {
   "cell_type": "code",
   "execution_count": 47,
   "id": "c18b9a57",
   "metadata": {},
   "outputs": [],
   "source": [
    "# Apply the function to the Weather's Dataframe for Temperature\n",
    "# and set it to be a Marylebone's Dataframe\n",
    "df_Marylebone[\"Temperature range (C)\"] = df_weather[\"Temperature (degrees C)\"].apply(temp)"
   ]
  },
  {
   "cell_type": "code",
   "execution_count": 48,
   "id": "2681e282",
   "metadata": {},
   "outputs": [
    {
     "data": {
      "text/html": [
       "<div>\n",
       "<style scoped>\n",
       "    .dataframe tbody tr th:only-of-type {\n",
       "        vertical-align: middle;\n",
       "    }\n",
       "\n",
       "    .dataframe tbody tr th {\n",
       "        vertical-align: top;\n",
       "    }\n",
       "\n",
       "    .dataframe thead th {\n",
       "        text-align: right;\n",
       "    }\n",
       "</style>\n",
       "<table border=\"1\" class=\"dataframe\">\n",
       "  <thead>\n",
       "    <tr style=\"text-align: right;\">\n",
       "      <th></th>\n",
       "      <th>PM10 particulate matter (Hourly measured)</th>\n",
       "      <th>PM2.5 particulate matter (Hourly measured)</th>\n",
       "    </tr>\n",
       "    <tr>\n",
       "      <th>Temperature range (C)</th>\n",
       "      <th></th>\n",
       "      <th></th>\n",
       "    </tr>\n",
       "  </thead>\n",
       "  <tbody>\n",
       "    <tr>\n",
       "      <th>0.1-5</th>\n",
       "      <td>22.035485</td>\n",
       "      <td>15.529997</td>\n",
       "    </tr>\n",
       "    <tr>\n",
       "      <th>5.1-10</th>\n",
       "      <td>20.941561</td>\n",
       "      <td>13.426495</td>\n",
       "    </tr>\n",
       "    <tr>\n",
       "      <th>15.1-20</th>\n",
       "      <td>19.694440</td>\n",
       "      <td>11.968391</td>\n",
       "    </tr>\n",
       "    <tr>\n",
       "      <th>&gt;20</th>\n",
       "      <td>22.308272</td>\n",
       "      <td>13.721985</td>\n",
       "    </tr>\n",
       "    <tr>\n",
       "      <th>NaN</th>\n",
       "      <td>20.293687</td>\n",
       "      <td>12.096122</td>\n",
       "    </tr>\n",
       "    <tr>\n",
       "      <th>NaN</th>\n",
       "      <td>24.808046</td>\n",
       "      <td>17.683333</td>\n",
       "    </tr>\n",
       "  </tbody>\n",
       "</table>\n",
       "</div>"
      ],
      "text/plain": [
       "                       PM10 particulate matter (Hourly measured)  \\\n",
       "Temperature range (C)                                              \n",
       "0.1-5                                                  22.035485   \n",
       "5.1-10                                                 20.941561   \n",
       "15.1-20                                                19.694440   \n",
       ">20                                                    22.308272   \n",
       "NaN                                                    20.293687   \n",
       "NaN                                                    24.808046   \n",
       "\n",
       "                       PM2.5 particulate matter (Hourly measured)  \n",
       "Temperature range (C)                                              \n",
       "0.1-5                                                   15.529997  \n",
       "5.1-10                                                  13.426495  \n",
       "15.1-20                                                 11.968391  \n",
       ">20                                                     13.721985  \n",
       "NaN                                                     12.096122  \n",
       "NaN                                                     17.683333  "
      ]
     },
     "execution_count": 48,
     "metadata": {},
     "output_type": "execute_result"
    }
   ],
   "source": [
    "# Dataframe of the mean of PM10 and PM2.5 according to the range of temperature (C)\n",
    "\n",
    "df_temp = df_Marylebone.groupby(\"Temperature range (C)\")[[\n",
    "    \"PM10 particulate matter (Hourly measured)\",\n",
    "    \"PM2.5 particulate matter (Hourly measured)\"\n",
    "]].mean().reset_index()\n",
    "\n",
    "# Order the rows in the Temperature range's column\n",
    "ordered_bins = [\"<0\", \"0.1-5\", \"5.1-10\", \"10.1-15\", \"15.1-20\", \">20\"]\n",
    "\n",
    "df_temp[\"Temperature range (C)\"] = pd.Categorical(\n",
    "    df_temp[\"Temperature range (C)\"],\n",
    "    categories=ordered_bins,\n",
    "    ordered=True\n",
    ")\n",
    "\n",
    "df_temp = df_temp.sort_values(\"Temperature range (C)\").reset_index(drop=True)\n",
    "\n",
    "# Set the index column\n",
    "df_temp = df_temp.set_index(\"Temperature range (C)\")\n",
    "\n",
    "# Show the Dataframe\n",
    "df_temp"
   ]
  },
  {
   "cell_type": "markdown",
   "id": "b262a421",
   "metadata": {},
   "source": [
    "## Impact of Pressure on PM10 and PM2.5 in Marylebone"
   ]
  },
  {
   "cell_type": "code",
   "execution_count": 49,
   "id": "bd7d1fbd",
   "metadata": {
    "slideshow": {
     "slide_type": "slide"
    }
   },
   "outputs": [
    {
     "data": {
      "image/png": "[encoded data removed]",
      "text/plain": [
       "<Figure size 334x200 with 1 Axes>"
      ]
     },
     "metadata": {},
     "output_type": "display_data"
    },
    {
     "data": {
      "image/png": "[encoded data removed]",
      "text/plain": [
       "<Figure size 334x200 with 1 Axes>"
      ]
     },
     "metadata": {},
     "output_type": "display_data"
    }
   ],
   "source": [
    "# Scatter plot of Pressure against PM10 in Marylebone\n",
    "\n",
    "# Size of the plots\n",
    "fig, ax = plt.subplots(figsize = (3.34, 2))\n",
    "\n",
    "ax.scatter(df_weather[\"Pressure (hPa)\"],\n",
    "           df_Marylebone[\"PM10 particulate matter (Hourly measured)\"],\n",
    "           color=\"blue\",\n",
    "           alpha=0.02,\n",
    "           label=\"PM10\"\n",
    "          )\n",
    "\n",
    "# Set the titles\n",
    "ax.set_title(\"PM10 vs Pressure in Marylebone\")\n",
    "\n",
    "# Set the x-axis\n",
    "ax.set_xlabel(\"Pressure (hPa)\")\n",
    "\n",
    "# Set the y-axis\n",
    "ax.set_ylabel(\"PM10/ugm-3\")\n",
    "\n",
    "ax.legend()\n",
    "\n",
    "# Show the plots\n",
    "plt.show()\n",
    "\n",
    "\n",
    "\n",
    "\n",
    "# Scatter plot of Pressure against PM2.5 in Marylebone\n",
    "\n",
    "# Size of the plots\n",
    "fig, ax = plt.subplots(figsize = (3.34, 2))\n",
    "\n",
    "\n",
    "ax.scatter(df_weather[\"Pressure (hPa)\"],\n",
    "           df_Marylebone[\"PM2.5 particulate matter (Hourly measured)\"],\n",
    "           color=\"red\",\n",
    "           alpha=0.02,\n",
    "           label=\"PM10\"\n",
    "          )\n",
    "\n",
    "# Set the titles\n",
    "ax.set_title(\"PM2.5 vs Pressure in Marylebone\")\n",
    "\n",
    "# Set the x-axis\n",
    "ax.set_xlabel(\"Pressure (hPa)\")\n",
    "\n",
    "# Set the y-axis\n",
    "ax.set_ylabel(\"PM2.5/ugm-3\")\n",
    "\n",
    "\n",
    "ax.legend()\n",
    "\n",
    "# Show the plots\n",
    "plt.show()"
   ]
  },
  {
   "cell_type": "code",
   "execution_count": 50,
   "id": "ab069b1d",
   "metadata": {},
   "outputs": [
    {
     "name": "stdout",
     "output_type": "stream",
     "text": [
      "              PM10  Pressure\n",
      "PM10      1.000000  0.142563\n",
      "Pressure  0.142563  1.000000\n"
     ]
    }
   ],
   "source": [
    "# Correlation between PM10 and Pressure\n",
    "df_cor = {\"PM10\": df_Marylebone[\"PM10 particulate matter (Hourly measured)\"],\n",
    "          \"Pressure\": df_weather[\"Pressure (hPa)\"]\n",
    "         }\n",
    "\n",
    "data = pd.DataFrame(df_cor)\n",
    "\n",
    "print(data.corr())"
   ]
  },
  {
   "cell_type": "code",
   "execution_count": 51,
   "id": "e91ca94a",
   "metadata": {},
   "outputs": [
    {
     "name": "stdout",
     "output_type": "stream",
     "text": [
      "             PM2.5  Pressure\n",
      "PM2.5     1.000000  0.168612\n",
      "Pressure  0.168612  1.000000\n"
     ]
    }
   ],
   "source": [
    "# Correlation between PM2.5 and Pressure\n",
    "df_cor = {\"PM2.5\": df_Marylebone[\"PM2.5 particulate matter (Hourly measured)\"],\n",
    "          \"Pressure\": df_weather[\"Pressure (hPa)\"]\n",
    "         }\n",
    "\n",
    "data = pd.DataFrame(df_cor)\n",
    "\n",
    "print(data.corr())"
   ]
  },
  {
   "cell_type": "code",
   "execution_count": 52,
   "id": "47e51faf",
   "metadata": {},
   "outputs": [],
   "source": [
    "# Function to set the range of pressure\n",
    "def pressure(p):\n",
    "    if p <= 1000:\n",
    "        return \"0-1000\"\n",
    "    elif p <= 1010:\n",
    "        return\"1000.1-1010\"\n",
    "    elif p <= 1020:\n",
    "        return \"1010.1-1020\"\n",
    "    elif p > 1020:\n",
    "        return \">1020\"\n",
    "    else:\n",
    "        return \"NaN\"\n",
    "    \n",
    "# Apply the function and let it be in Marylebone's Dataframe    \n",
    "df_Marylebone[\"Pressure range (hPa)\"] = df_weather[\"Pressure (hPa)\"].apply(pressure)"
   ]
  },
  {
   "cell_type": "code",
   "execution_count": 53,
   "id": "a5056680",
   "metadata": {},
   "outputs": [
    {
     "data": {
      "text/html": [
       "<div>\n",
       "<style scoped>\n",
       "    .dataframe tbody tr th:only-of-type {\n",
       "        vertical-align: middle;\n",
       "    }\n",
       "\n",
       "    .dataframe tbody tr th {\n",
       "        vertical-align: top;\n",
       "    }\n",
       "\n",
       "    .dataframe thead th {\n",
       "        text-align: right;\n",
       "    }\n",
       "</style>\n",
       "<table border=\"1\" class=\"dataframe\">\n",
       "  <thead>\n",
       "    <tr style=\"text-align: right;\">\n",
       "      <th></th>\n",
       "      <th>PM10 particulate matter (Hourly measured)</th>\n",
       "      <th>PM2.5 particulate matter (Hourly measured)</th>\n",
       "    </tr>\n",
       "    <tr>\n",
       "      <th>Pressure range (hPa)</th>\n",
       "      <th></th>\n",
       "      <th></th>\n",
       "    </tr>\n",
       "  </thead>\n",
       "  <tbody>\n",
       "    <tr>\n",
       "      <th>0-1000</th>\n",
       "      <td>18.226840</td>\n",
       "      <td>10.617526</td>\n",
       "    </tr>\n",
       "    <tr>\n",
       "      <th>1000.1-1010</th>\n",
       "      <td>19.429232</td>\n",
       "      <td>11.743719</td>\n",
       "    </tr>\n",
       "    <tr>\n",
       "      <th>1010.1-1020</th>\n",
       "      <td>20.975787</td>\n",
       "      <td>13.326257</td>\n",
       "    </tr>\n",
       "    <tr>\n",
       "      <th>&gt;1020</th>\n",
       "      <td>22.730623</td>\n",
       "      <td>14.837631</td>\n",
       "    </tr>\n",
       "  </tbody>\n",
       "</table>\n",
       "</div>"
      ],
      "text/plain": [
       "                      PM10 particulate matter (Hourly measured)  \\\n",
       "Pressure range (hPa)                                              \n",
       "0-1000                                                18.226840   \n",
       "1000.1-1010                                           19.429232   \n",
       "1010.1-1020                                           20.975787   \n",
       ">1020                                                 22.730623   \n",
       "\n",
       "                      PM2.5 particulate matter (Hourly measured)  \n",
       "Pressure range (hPa)                                              \n",
       "0-1000                                                 10.617526  \n",
       "1000.1-1010                                            11.743719  \n",
       "1010.1-1020                                            13.326257  \n",
       ">1020                                                  14.837631  "
      ]
     },
     "execution_count": 53,
     "metadata": {},
     "output_type": "execute_result"
    }
   ],
   "source": [
    "# Mean of PM10 and PM2.5 according to the pressure range (hPa)\n",
    "df_pressure = df_Marylebone.groupby(\"Pressure range (hPa)\")[[\n",
    "    \"PM10 particulate matter (Hourly measured)\",\n",
    "    \"PM2.5 particulate matter (Hourly measured)\"\n",
    "]].mean().reset_index()\n",
    "\n",
    "# Set the index column\n",
    "df_pressure = df_pressure.set_index(\"Pressure range (hPa)\")\n",
    "\n",
    "# Show the Dataframe\n",
    "df_pressure"
   ]
  },
  {
   "cell_type": "markdown",
   "id": "ad39d840",
   "metadata": {},
   "source": [
    "## Impact of Wind gust on PM10 and PM2.5 in Marylebone"
   ]
  },
  {
   "cell_type": "code",
   "execution_count": 54,
   "id": "b6c9c029",
   "metadata": {},
   "outputs": [
    {
     "data": {
      "image/png": "[encoded data removed]",
      "text/plain": [
       "<Figure size 334x200 with 1 Axes>"
      ]
     },
     "metadata": {},
     "output_type": "display_data"
    },
    {
     "data": {
      "image/png": "[encoded data removed]",
      "text/plain": [
       "<Figure size 334x200 with 1 Axes>"
      ]
     },
     "metadata": {},
     "output_type": "display_data"
    }
   ],
   "source": [
    "# Scatter plot of PM10 against Wind gust in Marylebone\n",
    "\n",
    "# Size of the plots\n",
    "fig, ax = plt.subplots(figsize = (3.34, 2))\n",
    "\n",
    "ax.scatter(df_weather[\"Wind gust (km/h)\"],\n",
    "           df_Marylebone[\"PM10 particulate matter (Hourly measured)\"],\n",
    "           color=\"blue\",\n",
    "           alpha=0.05,\n",
    "           label=\"PM10\"\n",
    "          )\n",
    "\n",
    "# Set the titles\n",
    "ax.set_title(\"PM10 vs Wind gust in Marylebone\")\n",
    "\n",
    "# Set the x-axis\n",
    "ax.set_xlabel(\"Wind gust (km/h)\")\n",
    "\n",
    "# Set the y-axis\n",
    "ax.set_ylabel(\"PM10/ugm-3\")\n",
    "\n",
    "ax.legend()\n",
    "\n",
    "# Show the plots\n",
    "plt.show()\n",
    "\n",
    "\n",
    "\n",
    "\n",
    "# Scatter plot of PM2.5 against Wind gust in Marylebone\n",
    "\n",
    "# Size of the plots\n",
    "fig, ax = plt.subplots(figsize = (3.34, 2))\n",
    "\n",
    "ax.scatter(df_weather[\"Wind gust (km/h)\"],\n",
    "           df_Marylebone[\"PM2.5 particulate matter (Hourly measured)\"],\n",
    "           color=\"red\",\n",
    "           alpha=0.05,\n",
    "           label=\"PM2.5\"\n",
    "          )\n",
    "\n",
    "# Set the titles\n",
    "ax.set_title(\"PM2.5 vs Wind gust in Marylebone\")\n",
    "\n",
    "# Set the x-axis\n",
    "ax.set_xlabel(\"Wind gust (km/h)\")\n",
    "\n",
    "# Set the y-axis\n",
    "ax.set_ylabel(\"PM2.5/ugm-3\")\n",
    "\n",
    "\n",
    "ax.legend()\n",
    "\n",
    "# Show the plots\n",
    "plt.show()"
   ]
  },
  {
   "cell_type": "code",
   "execution_count": 55,
   "id": "bd885dfe",
   "metadata": {},
   "outputs": [
    {
     "name": "stdout",
     "output_type": "stream",
     "text": [
      "               PM10  Wind gust\n",
      "PM10       1.000000  -0.213525\n",
      "Wind gust -0.213525   1.000000\n"
     ]
    }
   ],
   "source": [
    "# Correlation between PM10 and Wind gust\n",
    "df_cor = {\"PM10\": df_Marylebone[\"PM10 particulate matter (Hourly measured)\"],\n",
    "          \"Wind gust\": df_weather[\"Wind gust (km/h)\"]\n",
    "         }\n",
    "\n",
    "data = pd.DataFrame(df_cor)\n",
    "\n",
    "print(data.corr())"
   ]
  },
  {
   "cell_type": "code",
   "execution_count": 56,
   "id": "3ad903fd",
   "metadata": {},
   "outputs": [
    {
     "name": "stdout",
     "output_type": "stream",
     "text": [
      "             PM2.5  Wind gust\n",
      "PM2.5      1.00000   -0.30346\n",
      "Wind gust -0.30346    1.00000\n"
     ]
    }
   ],
   "source": [
    "# Correlation between PM2.5 and Wind gust\n",
    "df_cor = {\"PM2.5\": df_Marylebone[\"PM2.5 particulate matter (Hourly measured)\"],\n",
    "          \"Wind gust\": df_weather[\"Wind gust (km/h)\"]\n",
    "         }\n",
    "\n",
    "data = pd.DataFrame(df_cor)\n",
    "\n",
    "print(data.corr())"
   ]
  },
  {
   "cell_type": "code",
   "execution_count": 57,
   "id": "0fbaf66b",
   "metadata": {},
   "outputs": [],
   "source": [
    "# Function the set the range of Wind gust in km/h\n",
    "def wind_gust(s):\n",
    "    if s <= 20:\n",
    "        return \"0-20\"\n",
    "    elif s <= 30:\n",
    "        return\"20.1-30\"\n",
    "    elif s <= 40:\n",
    "        return \"30.1-40\"\n",
    "    elif s > 40:\n",
    "        return \">40\"\n",
    "    else:\n",
    "        return \"NaN\"\n",
    "    \n",
    "# Apply the functions and let it be in Marylebone's Dataframe    \n",
    "df_Marylebone[\"Wind gust range (km/h)\"] = df_weather[\"Wind gust (km/h)\"].apply(wind_gust)"
   ]
  },
  {
   "cell_type": "code",
   "execution_count": 58,
   "id": "73487147",
   "metadata": {},
   "outputs": [
    {
     "data": {
      "text/html": [
       "<div>\n",
       "<style scoped>\n",
       "    .dataframe tbody tr th:only-of-type {\n",
       "        vertical-align: middle;\n",
       "    }\n",
       "\n",
       "    .dataframe tbody tr th {\n",
       "        vertical-align: top;\n",
       "    }\n",
       "\n",
       "    .dataframe thead th {\n",
       "        text-align: right;\n",
       "    }\n",
       "</style>\n",
       "<table border=\"1\" class=\"dataframe\">\n",
       "  <thead>\n",
       "    <tr style=\"text-align: right;\">\n",
       "      <th></th>\n",
       "      <th>PM10 particulate matter (Hourly measured)</th>\n",
       "      <th>PM2.5 particulate matter (Hourly measured)</th>\n",
       "    </tr>\n",
       "    <tr>\n",
       "      <th>Wind gust range (km/h)</th>\n",
       "      <th></th>\n",
       "      <th></th>\n",
       "    </tr>\n",
       "  </thead>\n",
       "  <tbody>\n",
       "    <tr>\n",
       "      <th>0-20</th>\n",
       "      <td>24.106678</td>\n",
       "      <td>17.465141</td>\n",
       "    </tr>\n",
       "    <tr>\n",
       "      <th>20.1-30</th>\n",
       "      <td>18.983801</td>\n",
       "      <td>11.650350</td>\n",
       "    </tr>\n",
       "    <tr>\n",
       "      <th>30.1-40</th>\n",
       "      <td>17.571455</td>\n",
       "      <td>9.392245</td>\n",
       "    </tr>\n",
       "    <tr>\n",
       "      <th>&gt;40</th>\n",
       "      <td>16.650019</td>\n",
       "      <td>8.482048</td>\n",
       "    </tr>\n",
       "    <tr>\n",
       "      <th>NaN</th>\n",
       "      <td>23.997918</td>\n",
       "      <td>15.426575</td>\n",
       "    </tr>\n",
       "  </tbody>\n",
       "</table>\n",
       "</div>"
      ],
      "text/plain": [
       "                        PM10 particulate matter (Hourly measured)  \\\n",
       "Wind gust range (km/h)                                              \n",
       "0-20                                                    24.106678   \n",
       "20.1-30                                                 18.983801   \n",
       "30.1-40                                                 17.571455   \n",
       ">40                                                     16.650019   \n",
       "NaN                                                     23.997918   \n",
       "\n",
       "                        PM2.5 particulate matter (Hourly measured)  \n",
       "Wind gust range (km/h)                                              \n",
       "0-20                                                     17.465141  \n",
       "20.1-30                                                  11.650350  \n",
       "30.1-40                                                   9.392245  \n",
       ">40                                                       8.482048  \n",
       "NaN                                                      15.426575  "
      ]
     },
     "execution_count": 58,
     "metadata": {},
     "output_type": "execute_result"
    }
   ],
   "source": [
    "# Dataframe of mean of PM10 and PM2.5 according to the range of Wind gust\n",
    "df_wind_gust = df_Marylebone.groupby(\"Wind gust range (km/h)\")[[\n",
    "    \"PM10 particulate matter (Hourly measured)\",\n",
    "    \"PM2.5 particulate matter (Hourly measured)\"\n",
    "]].mean().reset_index()\n",
    "\n",
    "# Set the index column\n",
    "df_wind_gust = df_wind_gust.set_index(\"Wind gust range (km/h)\")\n",
    "\n",
    "# Show the Dataframe\n",
    "df_wind_gust"
   ]
  }
 ],
 "metadata": {
  "kernelspec": {
   "display_name": "Python 3 (ipykernel)",
   "language": "python",
   "name": "python3"
  },
  "language_info": {
   "codemirror_mode": {
    "name": "ipython",
    "version": 3
   },
   "file_extension": ".py",
   "mimetype": "text/x-python",
   "name": "python",
   "nbconvert_exporter": "python",
   "pygments_lexer": "ipython3",
   "version": "3.9.13"
  }
 },
 "nbformat": 4,
 "nbformat_minor": 5
}
